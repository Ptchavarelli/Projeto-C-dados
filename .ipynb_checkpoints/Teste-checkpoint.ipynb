{
 "cells": [
  {
   "cell_type": "code",
   "execution_count": 1,
   "metadata": {},
   "outputs": [],
   "source": [
    "import pandas as pd\n",
    "import numpy as np\n",
    "import math as math"
   ]
  },
  {
   "cell_type": "markdown",
   "metadata": {},
   "source": [
    "# Importar Excel"
   ]
  },
  {
   "cell_type": "code",
   "execution_count": 2,
   "metadata": {},
   "outputs": [],
   "source": [
    "###Importanto excel\n",
    "\n",
    "\n",
    "###Treinamento\n",
    "data_Treinamento= pd.read_excel('Tweets.xlsx',sheet_name=0)\n",
    "#Re1= data_Treinamento.Treinamento[data_Treinamento.Controle == 1]\n",
    "#Irr1=data_Treinamento.Treinamento[data_Treinamento.Controle == 0]\n",
    "\n",
    "\n",
    "###Teste\n",
    "data_Teste= pd.read_excel('Tweets.xlsx',sheet_name=1)\n",
    "#Re2= data_Teste.Teste[data_Teste.Controle == 1]\n",
    "#Irr2=data_Teste.Teste[data_Teste.Controle == 0]\n",
    "\n"
   ]
  },
  {
   "cell_type": "markdown",
   "metadata": {},
   "source": [
    "# Funcao antiga de limpeza nao usar mais"
   ]
  },
  {
   "cell_type": "code",
   "execution_count": 6,
   "metadata": {},
   "outputs": [],
   "source": [
    "###Funçao Limpar Não Usar mais\n",
    "\n",
    "def Limpar(frases):\n",
    "    strings=[]\n",
    "    for i in frases:\n",
    "        i.replace('/n','')\n",
    "        i.replace('!','')\n",
    "        i.replace(\"'\",\"\")\n",
    "        junto= i.split(\" \")\n",
    "        for w in junto:\n",
    "            if '@' in w:\n",
    "                del w\n",
    "            elif 'http' in w:\n",
    "                del w\n",
    "            elif w == 'rt':\n",
    "                  del w\n",
    "            elif '\\n' in w:\n",
    "                del w\n",
    "            else:\n",
    "                x = list(w)\n",
    "                for p in x:\n",
    "                    if p == '?':\n",
    "                        x.remove(p)\n",
    "                    elif p == ',':\n",
    "                        x.remove(p)\n",
    "                    elif p == '.':\n",
    "                        x.remove(p)\n",
    "                    elif p == '!':\n",
    "                        x.remove(p)\n",
    "                    elif p == '#':\n",
    "                        x.remove(p)\n",
    "                    elif p == '&':\n",
    "                        x.remove(p)\n",
    "                    elif p == ';':\n",
    "                        x.remove(p)\n",
    "                    elif p == '(':\n",
    "                        x.remove(p)\n",
    "                    elif p == ')':\n",
    "                        x.remove(p)\n",
    "                    elif p == '\"':\n",
    "                        x.remove(p)\n",
    "                    elif p == '/':\n",
    "                        x.remove(p)\n",
    "                    elif p == '*':\n",
    "                        x.remove(p)\n",
    "                    elif p == '-':\n",
    "                        x.remove(p)\n",
    "                tudo= ''.join(x)\n",
    "                strings.append(tudo)\n",
    "    return strings"
   ]
  },
  {
   "cell_type": "markdown",
   "metadata": {},
   "source": [
    "# Nova limpeza"
   ]
  },
  {
   "cell_type": "code",
   "execution_count": 25,
   "metadata": {},
   "outputs": [],
   "source": [
    "###Nova limpeza\n",
    "\n",
    "\n",
    "Treino = data_Treinamento['Treinamento'].str.replace('@', '')\n",
    "Treino = Treino.str.replace('rt', '')\n",
    "Treino = Treino.str.replace(',', '')\n",
    "Treino = Treino.str.replace('.', '')\n",
    "Treino = Treino.str.replace(':', '')\n",
    "Treino = Treino.str.replace(';', '')\n",
    "Treino = Treino.str.replace('\\n', '')\n",
    "Treino = Treino.str.replace('\"', '')\n",
    "\n",
    "Teste = data_Teste['Teste'].str.replace('@', '')\n",
    "Teste = Teste.str.replace('rt', '')\n",
    "Teste = Teste.str.replace(',', '')\n",
    "Teste = Teste.str.replace('.', '')\n",
    "Teste = Teste.str.replace(':', '')\n",
    "Teste = Teste.str.replace(';', '')\n",
    "Teste = Teste.str.replace('\\n', '')\n",
    "Teste = Teste.str.replace('\"', '')"
   ]
  },
  {
   "cell_type": "code",
   "execution_count": 26,
   "metadata": {},
   "outputs": [],
   "source": [
    "\n",
    "data_Treinamento['Treinamento'] = Treino\n",
    "data_Teste['Teste'] = Teste"
   ]
  },
  {
   "cell_type": "code",
   "execution_count": null,
   "metadata": {},
   "outputs": [],
   "source": [
    "data_Treinamento"
   ]
  },
  {
   "cell_type": "code",
   "execution_count": null,
   "metadata": {},
   "outputs": [],
   "source": [
    "data_Teste"
   ]
  },
  {
   "cell_type": "markdown",
   "metadata": {},
   "source": [
    "# Separando em Relevante e Irrelevante"
   ]
  },
  {
   "cell_type": "code",
   "execution_count": null,
   "metadata": {},
   "outputs": [],
   "source": [
    "Re1= data_Treinamento.Treinamento[data_Treinamento.Controle == 1]\n",
    "Irr1=data_Treinamento.Treinamento[data_Treinamento.Controle == 0]"
   ]
  },
  {
   "cell_type": "markdown",
   "metadata": {},
   "source": [
    "# Relevancia"
   ]
  },
  {
   "cell_type": "code",
   "execution_count": 29,
   "metadata": {},
   "outputs": [
    {
     "name": "stdout",
     "output_type": "stream",
     "text": [
      "0.16666666666666666 0.8333333333333334\n"
     ]
    }
   ],
   "source": [
    "Pr = len(Re1)/len(data_Treinamento)\n",
    "Pirr = len(Irr1)/len(data_Treinamento)\n",
    "print(Pr,Pirr)"
   ]
  },
  {
   "cell_type": "markdown",
   "metadata": {},
   "source": [
    "# Separando as frases em listas com palavras"
   ]
  },
  {
   "cell_type": "code",
   "execution_count": 46,
   "metadata": {},
   "outputs": [],
   "source": [
    "###Relevantes ###Lista de listas\n",
    "Palavras_relevantes=[]\n",
    "\n",
    "for i in Re1:\n",
    "    Palavras_relevantes.append(i.split())\n"
   ]
  },
  {
   "cell_type": "code",
   "execution_count": 47,
   "metadata": {},
   "outputs": [],
   "source": [
    "###Irrelevantes\n",
    "\n",
    "Palavras_irrelevantes=[]\n",
    "\n",
    "for i in Irr1:\n",
    "    Palavras_irrelevantes.append(i.split())\n"
   ]
  },
  {
   "cell_type": "code",
   "execution_count": 48,
   "metadata": {},
   "outputs": [],
   "source": [
    "###Tudo\n",
    "\n",
    "Palavras_total=[]\n",
    "\n",
    "for i in Treino:\n",
    "    Palavras_total.append(i.split())\n",
    "    \n"
   ]
  },
  {
   "cell_type": "markdown",
   "metadata": {},
   "source": [
    "# Tirando items repetidos "
   ]
  },
  {
   "cell_type": "code",
   "execution_count": 49,
   "metadata": {},
   "outputs": [],
   "source": [
    "Laplace= []\n",
    "\n",
    "for i in Palavras_total:\n",
    "    for e in i:\n",
    "        if e.lower() not in Laplace:\n",
    "            Laplace.append(e.lower())\n",
    "            \n",
    "#print(Laplace)\n",
    "#print(len(Laplace))\n",
    "\n"
   ]
  },
  {
   "cell_type": "markdown",
   "metadata": {},
   "source": [
    "# Laplace Smoothing"
   ]
  },
  {
   "cell_type": "markdown",
   "metadata": {},
   "source": [
    "# Probabilidade de uma palavra ser relevante"
   ]
  },
  {
   "cell_type": "code",
   "execution_count": 57,
   "metadata": {},
   "outputs": [],
   "source": [
    "def Palavra_relevante(palavra):\n",
    "    soma=1\n",
    "    total=0\n",
    "    for i in Palavras_relevantes:\n",
    "        total+=len(i)\n",
    "        for e in i:\n",
    "            if e.lower()==palavra.lower():\n",
    "                soma+=1\n",
    "    return soma/(total+len(Laplace))\n",
    "            \n",
    "    \n",
    "    \n",
    "    \n",
    "#print(Palavra_relevante('corolla'))\n",
    "#print(Palavra_relevante('oi'))\n",
    "#print(Palavra_relevante('namorada'))\n",
    "#print(Palavra_relevante('ruim'))\n"
   ]
  },
  {
   "cell_type": "markdown",
   "metadata": {},
   "source": [
    "# Probabilidade de uma palavra ser irrelevante"
   ]
  },
  {
   "cell_type": "code",
   "execution_count": 58,
   "metadata": {},
   "outputs": [],
   "source": [
    "def Palavra_irrelevante(palavra):\n",
    "    soma=1\n",
    "    total=0\n",
    "    for i in Palavras_irrelevantes:\n",
    "        total+=len(i)\n",
    "        for e in i:\n",
    "            if e.lower()==palavra.lower():\n",
    "                soma+=1\n",
    "    return soma/(total+len(Laplace))\n",
    "            \n",
    "    \n",
    "    \n",
    "    \n",
    "#print(Palavra_irrelevante('corolla'))\n",
    "#print(Palavra_irrelevante('oi'))\n",
    "#print(Palavra_irrelevante('namorada'))\n",
    "#print(Palavra_irrelevante('ruim'))"
   ]
  },
  {
   "cell_type": "markdown",
   "metadata": {},
   "source": [
    "# Classificação"
   ]
  },
  {
   "cell_type": "code",
   "execution_count": 59,
   "metadata": {},
   "outputs": [],
   "source": [
    "def Classificação(lista):\n",
    "    classificado = []\n",
    "    for i in lista:         \n",
    "        palavra = i.split()\n",
    "        Prelevante= []\n",
    "        Pirrelevante = []\n",
    "        for e in palavra:         \n",
    "            Prelevante.append(Palavra_relevante(e))\n",
    "            Pirrelevante.append(Palavra_irrelevante(e))\n",
    "        PR = 1\n",
    "        PI = 1\n",
    "        for i in Prelevante:\n",
    "            PR *= i\n",
    "        for i in Pirrelevante:\n",
    "            PI *= i\n",
    "        PRfrase = PR * Pr \n",
    "        PIfrase = PI * Pirr\n",
    "        if PRfrase > PIfrase:\n",
    "            classificado.append('Relevante')\n",
    "        else:\n",
    "            classificado.append('Irrelevante')\n",
    "    return classificado\n"
   ]
  },
  {
   "cell_type": "markdown",
   "metadata": {},
   "source": [
    "# Analise da baseTeste"
   ]
  },
  {
   "cell_type": "markdown",
   "metadata": {},
   "source": [
    "# Lista para frases Teste"
   ]
  },
  {
   "cell_type": "code",
   "execution_count": 60,
   "metadata": {},
   "outputs": [],
   "source": [
    "Frases_teste=[]\n",
    "\n",
    "for i in Teste:\n",
    "    Frases_teste.append(i)\n",
    "\n",
    "\n",
    "\n"
   ]
  },
  {
   "cell_type": "code",
   "execution_count": 63,
   "metadata": {},
   "outputs": [],
   "source": [
    "Final = Classificação(Frases_teste)\n",
    "\n"
   ]
  },
  {
   "cell_type": "code",
   "execution_count": 64,
   "metadata": {},
   "outputs": [
    {
     "name": "stdout",
     "output_type": "stream",
     "text": [
      "['Relevante', 'Relevante', 'Irrelevante', 'Relevante', 'Irrelevante', 'Irrelevante', 'Irrelevante', 'Relevante', 'Irrelevante', 'Irrelevante', 'Irrelevante', 'Irrelevante', 'Irrelevante', 'Irrelevante', 'Relevante', 'Relevante', 'Relevante', 'Irrelevante', 'Irrelevante', 'Irrelevante', 'Irrelevante', 'Relevante', 'Irrelevante', 'Relevante', 'Irrelevante', 'Irrelevante', 'Irrelevante', 'Irrelevante', 'Relevante', 'Relevante', 'Irrelevante', 'Irrelevante', 'Irrelevante', 'Irrelevante', 'Irrelevante', 'Irrelevante', 'Irrelevante', 'Relevante', 'Irrelevante', 'Irrelevante', 'Irrelevante', 'Irrelevante', 'Relevante', 'Irrelevante', 'Irrelevante', 'Relevante', 'Relevante', 'Irrelevante', 'Irrelevante', 'Irrelevante', 'Irrelevante', 'Relevante', 'Irrelevante', 'Irrelevante', 'Irrelevante', 'Relevante', 'Irrelevante', 'Irrelevante', 'Relevante', 'Relevante', 'Irrelevante', 'Relevante', 'Relevante', 'Irrelevante', 'Relevante', 'Irrelevante', 'Irrelevante', 'Relevante', 'Relevante', 'Irrelevante', 'Irrelevante', 'Irrelevante', 'Irrelevante', 'Relevante', 'Irrelevante', 'Irrelevante', 'Irrelevante', 'Irrelevante', 'Irrelevante', 'Irrelevante', 'Relevante', 'Irrelevante', 'Irrelevante', 'Irrelevante', 'Relevante', 'Irrelevante', 'Relevante', 'Relevante', 'Irrelevante', 'Irrelevante', 'Irrelevante', 'Irrelevante', 'Relevante', 'Irrelevante', 'Irrelevante', 'Relevante', 'Relevante', 'Irrelevante', 'Irrelevante', 'Irrelevante', 'Relevante', 'Relevante', 'Relevante', 'Irrelevante', 'Irrelevante', 'Irrelevante', 'Relevante', 'Relevante', 'Relevante', 'Irrelevante', 'Irrelevante', 'Irrelevante', 'Irrelevante', 'Irrelevante', 'Irrelevante', 'Irrelevante', 'Irrelevante', 'Irrelevante', 'Irrelevante', 'Irrelevante', 'Irrelevante', 'Irrelevante', 'Relevante', 'Irrelevante', 'Irrelevante', 'Irrelevante', 'Irrelevante', 'Relevante', 'Irrelevante', 'Irrelevante', 'Irrelevante', 'Irrelevante', 'Irrelevante', 'Irrelevante', 'Relevante', 'Relevante', 'Irrelevante', 'Irrelevante', 'Irrelevante', 'Relevante', 'Irrelevante', 'Irrelevante', 'Irrelevante', 'Relevante', 'Relevante', 'Relevante', 'Relevante', 'Relevante', 'Relevante', 'Irrelevante', 'Irrelevante', 'Irrelevante', 'Relevante', 'Irrelevante', 'Relevante', 'Irrelevante', 'Relevante', 'Relevante', 'Relevante', 'Relevante', 'Irrelevante', 'Relevante', 'Irrelevante', 'Irrelevante', 'Relevante', 'Relevante', 'Irrelevante', 'Relevante', 'Relevante', 'Irrelevante', 'Relevante', 'Irrelevante', 'Irrelevante', 'Relevante', 'Relevante', 'Irrelevante', 'Relevante', 'Irrelevante', 'Irrelevante', 'Relevante', 'Relevante', 'Irrelevante', 'Relevante', 'Relevante', 'Irrelevante', 'Irrelevante', 'Irrelevante', 'Irrelevante', 'Irrelevante', 'Irrelevante', 'Relevante', 'Irrelevante', 'Irrelevante', 'Irrelevante', 'Relevante', 'Relevante', 'Irrelevante', 'Irrelevante', 'Irrelevante', 'Irrelevante']\n"
     ]
    }
   ],
   "source": [
    "print(Final)"
   ]
  },
  {
   "cell_type": "markdown",
   "metadata": {},
   "source": [
    "# Verificação de performance"
   ]
  },
  {
   "cell_type": "code",
   "execution_count": 68,
   "metadata": {},
   "outputs": [],
   "source": [
    "teste=data_Teste.Controle"
   ]
  },
  {
   "cell_type": "markdown",
   "metadata": {},
   "source": [
    "# Positivos falsos"
   ]
  },
  {
   "cell_type": "code",
   "execution_count": 73,
   "metadata": {},
   "outputs": [
    {
     "name": "stdout",
     "output_type": "stream",
     "text": [
      "0.275\n"
     ]
    }
   ],
   "source": [
    "Posfal=0\n",
    "\n",
    "for i in range(len(Final)) and range(len(teste)):\n",
    "    if Final[i] == 'Relevante' and teste[i] == 0:\n",
    "        Posfal+=1\n",
    "print(Posfal/200)"
   ]
  },
  {
   "cell_type": "markdown",
   "metadata": {},
   "source": [
    "# Positivo Verdadeiro"
   ]
  },
  {
   "cell_type": "code",
   "execution_count": 76,
   "metadata": {},
   "outputs": [
    {
     "name": "stdout",
     "output_type": "stream",
     "text": [
      "0.08\n"
     ]
    }
   ],
   "source": [
    "Posver=0\n",
    "\n",
    "for i in range(len(Final)) and range(len(teste)):\n",
    "    if Final[i] == 'Relevante' and teste[i] == 1:\n",
    "        Posver+=1\n",
    "print(Posver/200)"
   ]
  },
  {
   "cell_type": "markdown",
   "metadata": {},
   "source": [
    "# Negativo Verdadeiro"
   ]
  },
  {
   "cell_type": "code",
   "execution_count": 77,
   "metadata": {},
   "outputs": [
    {
     "name": "stdout",
     "output_type": "stream",
     "text": [
      "0.545\n"
     ]
    }
   ],
   "source": [
    "Negver=0\n",
    "\n",
    "for i in range(len(Final)) and range(len(teste)):\n",
    "    if Final[i] == 'Irrelevante' and teste[i] == 0:\n",
    "        Negver+=1\n",
    "print(Negver/200)"
   ]
  },
  {
   "cell_type": "markdown",
   "metadata": {},
   "source": [
    "# Negativo Falso"
   ]
  },
  {
   "cell_type": "code",
   "execution_count": 78,
   "metadata": {},
   "outputs": [
    {
     "name": "stdout",
     "output_type": "stream",
     "text": [
      "0.1\n"
     ]
    }
   ],
   "source": [
    "Negfal=0\n",
    "\n",
    "for i in range(len(Final)) and range(len(teste)):\n",
    "    if Final[i] == 'Irrelevante' and teste[i] == 1:\n",
    "        Negfal+=1\n",
    "print(Negfal/200)"
   ]
  },
  {
   "cell_type": "code",
   "execution_count": 80,
   "metadata": {},
   "outputs": [
    {
     "name": "stdout",
     "output_type": "stream",
     "text": [
      "1.0\n"
     ]
    }
   ],
   "source": [
    "print(0.545+0.1+0.275+0.08)"
   ]
  }
 ],
 "metadata": {
  "kernelspec": {
   "display_name": "Python 3",
   "language": "python",
   "name": "python3"
  },
  "language_info": {
   "codemirror_mode": {
    "name": "ipython",
    "version": 3
   },
   "file_extension": ".py",
   "mimetype": "text/x-python",
   "name": "python",
   "nbconvert_exporter": "python",
   "pygments_lexer": "ipython3",
   "version": "3.6.4"
  }
 },
 "nbformat": 4,
 "nbformat_minor": 2
}
