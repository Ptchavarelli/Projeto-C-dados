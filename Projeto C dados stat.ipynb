{
 "cells": [
  {
   "cell_type": "code",
   "execution_count": 64,
   "metadata": {},
   "outputs": [],
   "source": [
    "import pandas as pd\n",
    "import numpy as np\n",
    "import math as math\n",
    "from scipy import stats\n",
    "import seaborn as sns\n",
    "\n"
   ]
  },
  {
   "cell_type": "code",
   "execution_count": 65,
   "metadata": {},
   "outputs": [
    {
     "name": "stdout",
     "output_type": "stream",
     "text": [
      "0      toyota corolla touring sports é a perua substi...\n",
      "6                        um corolla não é uma ma ideia 😋\n",
      "8        carai, to de carona num corolla, que carro foda\n",
      "20     @autossegredos o corolla tem bons concorrentes...\n",
      "27     rt @uolcarros: sim, existe uma nova geração da...\n",
      "39     adeus auris. toyota volta atrás e recupera cor...\n",
      "43     vw virtus vende mais que o corolla no começo d...\n",
      "44     @_rodrigoap já peguei um uber q o carro era um...\n",
      "45                        só esse corolla na minha vida.\n",
      "49     é pré requisito se aposentar, comprar um corol...\n",
      "51                     @luznocaus bora pega o corolla ai\n",
      "53     toyota revela carrinha do novo corolla https:/...\n",
      "55     falar q é corolla é fácil\\nquero ver ter a pot...\n",
      "59     @wyllikscarvalho kkkkkk fé no pai que o coroll...\n",
      "66     adeus, auris! toyota volta a chamar hatch de c...\n",
      "74     @mileyprodigy hahahahahahahahahaa ainda não, m...\n",
      "86          eu gosto de corolla e etc. o jailson era ser\n",
      "87       quando você ver o menor de corolla, não chora 🎶\n",
      "93     corolla champanhe é um sapatênis em forma de c...\n",
      "99         sabia que a disgraça desse corolla era chucho\n",
      "105    salvem as peruas: toyota lança corolla touring...\n",
      "108    acabou de passar um corolla fosco aqui, achei ...\n",
      "135                         qnd vc v um menor de corolla\n",
      "139    dei maior rolezão de corolla pqp que carro bom...\n",
      "140    toyota corolla regressa em 2019 https://t.co/x...\n",
      "143    yaris, hilux e corolla são destaques da toyota...\n",
      "145                            é caro manter corolla viu\n",
      "165         que vontade de ter um corolla nas 20” e fixa\n",
      "168               meu sonho de princesa e ter um corolla\n",
      "170    #toyota #corolla ganha bela opção perua tourin...\n",
      "171    o dia que eu tiver o meu corolla eu vou ser um...\n",
      "172    \"corolla é carro de vôvô\" https://t.co/qr80rrrsnq\n",
      "189    @cortininhas cuidado com o ipva, “sr. corolla”...\n",
      "196                   @jqte_ corolla é o novo del rey! 😉\n",
      "197    quem é o boy  do corolla prata? gosteiiiii — r...\n",
      "224                                         q corolla oq\n",
      "227    visual do corolla touring sports é revelado. a...\n",
      "233    quando deus fez a terra, ele decidiu fazer um ...\n",
      "235    ele ta querendo comprar o corolla 2019 mas ess...\n",
      "236                        fiquei na mola do corolla kkk\n",
      "244           gosto quando chega uns corolla e uns etios\n",
      "248                            fui destronada do corolla\n",
      "251                         imagina eu de corolla.......\n",
      "273    #toyota #corolla touring sports 2020 é revelad...\n",
      "274    vou fzr de tudo pro meu pai ficar com o coroll...\n",
      "275            @engecar só corolla né meno, tira onda kk\n",
      "278    @gaoners @youtube o corolla é superior em algu...\n",
      "282      @bondedoromulo eh q corolla carro de veio broxa\n",
      "290    nova @toyotaportugal corolla carrinha a caminh...\n",
      "299    meu vô tá fazendo aniversário hoje ,dai ganho ...\n",
      "Name: Treinamento, dtype: object\n",
      "1      tinha um corolla preto bem na frente da minha ...\n",
      "2      barulho no espelho de roda do corolla https://...\n",
      "3      rt @leandroruschel: nos eua, há mais vaga aber...\n",
      "4      gostei de um vídeo @youtube https://t.co/xh7b4...\n",
      "5      rt @iverfiorin: fala que agora namora um cara ...\n",
      "7      parei um corolla dos homi e mandei dar meia vo...\n",
      "9      adicionei um vídeo a uma playlist @youtube htt...\n",
      "10     rt @iverfiorin: fala que agora namora um cara ...\n",
      "11     rt @iverfiorin: fala que agora namora um cara ...\n",
      "12     @brunodinizitaim @foxsportsbrasil ah não ne, o...\n",
      "13     cara o landau era uma porcaria, por que então ...\n",
      "14     rt @quatrorodas: mais potente que golf variant...\n",
      "15     @edufelc eu sei que pode parecer estranho, mas...\n",
      "16     adicionei um vídeo a uma playlist @youtube htt...\n",
      "17     rt @radaresportugal: porto | radar em toyota c...\n",
      "18     consulte condições. #soranatoyota #toyotacorol...\n",
      "19     pilotando um corolla, traficante de brizola\\nc...\n",
      "21     acho tão indecente alguém acumular 425 milhões...\n",
      "22     qual é o seu vídeo clipe favorito? — dragon ba...\n",
      "23     https://t.co/bzc0geiv1v\\n\\nplaylist para ouvir...\n",
      "24     @radaresportugal circunvalação rotunda aep/mat...\n",
      "25     misericórdia corolla do bovino ficou pixadíssi...\n",
      "26     rt @_makavelijones: eu só queria dizer pros do...\n",
      "28     @caaio_crf o problema é o carro? @luska04  ta ...\n",
      "29     veja se agora é a melhor hora para comprar alg...\n",
      "30     rt @iverfiorin: fala que agora namora um cara ...\n",
      "31     fala que agora namora um cara que usa blazer e...\n",
      "32     carro usado toyota corolla 1.8 16v 4p gli aut....\n",
      "33     taxar grandes fortunas não inclui o dono do me...\n",
      "34     só pra lembrar vocês que quem tem toyota corol...\n",
      "                             ...                        \n",
      "263    auris para uns, corolla para outros\\nhttps://t...\n",
      "264    rt @uol: toyota corolla: depois do hatch, é a ...\n",
      "265    ela só finge que me ignora, fala que agora nam...\n",
      "266    rt @iverfiorin: fala que agora namora um cara ...\n",
      "267    aqui em miami faxineira vem trabalhar de corol...\n",
      "268    @gabisvalente @mateussignorini a estudante que...\n",
      "269    gostei de um vídeo @youtube https://t.co/f1mai...\n",
      "270    rt @andd_olivr: olá pessoas, \\nmeu pai tá vend...\n",
      "271    quando você vê o menor de corolla, não chora n...\n",
      "272    gostei de um vídeo @youtube https://t.co/n2wp2...\n",
      "276    rt @iverfiorin: fala que agora namora um cara ...\n",
      "277    gostei de um vídeo @youtube https://t.co/ftjcb...\n",
      "279    rt @sindmedce: #sindicatonacopa: campanha sind...\n",
      "280    tem dinheiro me querendo la fora, com a morena...\n",
      "281    fala que agora namora um cara que usa blazer e...\n",
      "283    rt @quatrorodas: mais potente que golf variant...\n",
      "284    gostei de um vídeo @youtube https://t.co/bus1a...\n",
      "285    @danielsr_novais porra viado kkkk achei que ti...\n",
      "286                                 @leonelsr um corolla\n",
      "287    ela só finge que me ignora fala que agora namo...\n",
      "288    rt @iverfiorin: fala que agora namora um cara ...\n",
      "289    ela só finge q me ignora, fala q agora namora ...\n",
      "291    gostei de um vídeo @youtube https://t.co/fgudu...\n",
      "292    gostei de um vídeo @youtube https://t.co/narr6...\n",
      "293    @fiuzaroch4 quando vc ver o menor de corolla, ...\n",
      "294    corolla despenca de ponte e deixa três feridos...\n",
      "295    rt @iverfiorin: fala que agora namora um cara ...\n",
      "296    @riquebertoldi @brunakeicyaner @gab_yss kkkkkk...\n",
      "297    @roluchsinger @mrciofe46685399 na foto vejo do...\n",
      "298    carro usado toyota corolla xei aut. - 2006 - v...\n",
      "Name: Treinamento, Length: 250, dtype: object\n"
     ]
    }
   ],
   "source": [
    "data1= pd.read_excel('Tweets.xlsx',sheet_name=0)\n",
    "Re1= data1.Treinamento[data.Controle == 1]\n",
    "Irr1=data1.Treinamento[data.Controle == 0]\n",
    "print(Re1)\n",
    "print(Irr1)"
   ]
  },
  {
   "cell_type": "code",
   "execution_count": 66,
   "metadata": {},
   "outputs": [],
   "source": [
    "def Limpar(frases):\n",
    "    strings=[]\n",
    "    for i in frases:\n",
    "        i.replace('/n','')\n",
    "        i.replace('!','')\n",
    "        i.replace(\"'\",\"\")\n",
    "        junto= i.split(\" \")\n",
    "        for w in junto:\n",
    "            if '@' in w:\n",
    "                del w\n",
    "            elif 'http' in w:\n",
    "                del w\n",
    "            elif w == 'rt':\n",
    "                  del w\n",
    "            elif '\\n' in w:\n",
    "                del w\n",
    "            else:\n",
    "                x = list(w)\n",
    "                for p in x:\n",
    "                    if p == '?':\n",
    "                        x.remove(p)\n",
    "                    elif p == ',':\n",
    "                        x.remove(p)\n",
    "                    elif p == '.':\n",
    "                        x.remove(p)\n",
    "                    elif p == '!':\n",
    "                        x.remove(p)\n",
    "                    elif p == '#':\n",
    "                        x.remove(p)\n",
    "                    elif p == '&':\n",
    "                        x.remove(p)\n",
    "                    elif p == ';':\n",
    "                        x.remove(p)\n",
    "                    elif p == '(':\n",
    "                        x.remove(p)\n",
    "                    elif p == ')':\n",
    "                        x.remove(p)\n",
    "                    elif p == '\"':\n",
    "                        x.remove(p)\n",
    "                    elif p == '/':\n",
    "                        x.remove(p)\n",
    "                    elif p == '*':\n",
    "                        x.remove(p)\n",
    "                    elif p == '-':\n",
    "                        x.remove(p)\n",
    "                tudo= ''.join(x)\n",
    "                strings.append(tudo)\n",
    "    return strings\n",
    "\n"
   ]
  },
  {
   "cell_type": "code",
   "execution_count": 67,
   "metadata": {},
   "outputs": [],
   "source": [
    "relevante=Limpar(Re1)\n",
    "Fundamental1=pd.Series(relevante)\n",
    "Probabilidade_fundamental1=dict(Fundamental1.value_counts(normalize=True))\n",
    "\n",
    "irrelevante=Limpar(Irr1)\n",
    "Descartavel1=pd.Series(irrelevante)\n",
    "Probabilidade_descartavel1=dict(Descartavel1.value_counts(normalize=True))\n",
    "\n",
    "\n",
    "\n"
   ]
  },
  {
   "cell_type": "code",
   "execution_count": 68,
   "metadata": {},
   "outputs": [
    {
     "name": "stdout",
     "output_type": "stream",
     "text": [
      "0           toyota\n",
      "1          corolla\n",
      "2          touring\n",
      "3           sports\n",
      "4                é\n",
      "5                a\n",
      "6            perua\n",
      "7       substituta\n",
      "8               da\n",
      "9          fielder\n",
      "10              um\n",
      "11         corolla\n",
      "12             não\n",
      "13               é\n",
      "14             uma\n",
      "15              ma\n",
      "16           ideia\n",
      "17               😋\n",
      "18           carai\n",
      "19              to\n",
      "20              de\n",
      "21          carona\n",
      "22             num\n",
      "23         corolla\n",
      "24             que\n",
      "25           carro\n",
      "26            foda\n",
      "27               o\n",
      "28         corolla\n",
      "29             tem\n",
      "          ...     \n",
      "465              o\n",
      "466         sentra\n",
      "467            não\n",
      "468          deixa\n",
      "469              a\n",
      "470        desejar\n",
      "471             eh\n",
      "472              q\n",
      "473        corolla\n",
      "474          carro\n",
      "475             de\n",
      "476           veio\n",
      "477          broxa\n",
      "478           nova\n",
      "479        corolla\n",
      "480       carrinha\n",
      "481              a\n",
      "482        caminho\n",
      "483            meu\n",
      "484             vô\n",
      "485             tá\n",
      "486        fazendo\n",
      "487    aniversário\n",
      "488           hoje\n",
      "489            dai\n",
      "490          ganho\n",
      "491             só\n",
      "492             um\n",
      "493        corolla\n",
      "494             só\n",
      "Length: 495, dtype: object\n"
     ]
    }
   ],
   "source": [
    "print(Fundamental1)"
   ]
  },
  {
   "cell_type": "code",
   "execution_count": 69,
   "metadata": {},
   "outputs": [
    {
     "name": "stdout",
     "output_type": "stream",
     "text": [
      "0             tinha\n",
      "1                um\n",
      "2           corolla\n",
      "3             preto\n",
      "4               bem\n",
      "5                na\n",
      "6            frente\n",
      "7                da\n",
      "8             minha\n",
      "9              casa\n",
      "10                e\n",
      "11            tinha\n",
      "12               um\n",
      "13            homem\n",
      "14           dentro\n",
      "15          tirando\n",
      "16             foto\n",
      "17               da\n",
      "18            minha\n",
      "19             casa\n",
      "20           depois\n",
      "21              que\n",
      "22           acendi\n",
      "23                a\n",
      "24              luz\n",
      "25               da\n",
      "26          varanda\n",
      "27              ele\n",
      "28              foi\n",
      "29           embora\n",
      "           ...     \n",
      "4345        corolla\n",
      "4346            xei\n",
      "4347            aut\n",
      "4348               \n",
      "4349           2006\n",
      "4350               \n",
      "4351          volta\n",
      "4352      redondarj\n",
      "4353               \n",
      "4354    ref:1786521\n",
      "4355               \n",
      "4356             r$\n",
      "4357       2790000:\n",
      "4358          vendo\n",
      "4359          carro\n",
      "4360          usado\n",
      "4361         toyota\n",
      "4362        corolla\n",
      "4363            xei\n",
      "4364            aut\n",
      "4365               \n",
      "4366           2006\n",
      "4367               \n",
      "4368             r$\n",
      "4369        2790000\n",
      "4370               \n",
      "4371          volta\n",
      "4372      redondarj\n",
      "4373               \n",
      "4374    ref:1786521\n",
      "Length: 4375, dtype: object\n"
     ]
    }
   ],
   "source": [
    "print(Descartavel1)"
   ]
  },
  {
   "cell_type": "code",
   "execution_count": 70,
   "metadata": {},
   "outputs": [
    {
     "name": "stdout",
     "output_type": "stream",
     "text": [
      "{'corolla': 0.09494949494949495, 'o': 0.04040404040404041, 'de': 0.03636363636363636, 'é': 0.03232323232323232, 'um': 0.030303030303030304, 'a': 0.020202020202020204, 'toyota': 0.01818181818181818, 'carro': 0.01818181818181818, 'que': 0.01616161616161616, 'e': 0.014141414141414142, 'do': 0.012121212121212121, 'q': 0.012121212121212121, 'em': 0.010101010101010102, 'touring': 0.010101010101010102, 'da': 0.010101010101010102, 'não': 0.010101010101010102, 'sports': 0.010101010101010102, 'eu': 0.00808080808080808, 'mas': 0.00808080808080808, 'perua': 0.00808080808080808, 'só': 0.00808080808080808, 'meu': 0.00808080808080808, 'no': 0.00808080808080808, 'gosto': 0.006060606060606061, 'quando': 0.006060606060606061, 'se': 0.006060606060606061, 'era': 0.006060606060606061, '': 0.006060606060606061, 'ter': 0.006060606060606061, 'já': 0.006060606060606061, 'ser': 0.00404040404040404, 'ficar': 0.00404040404040404, 'dei': 0.00404040404040404, 'pai': 0.00404040404040404, 'auris': 0.00404040404040404, 'fielder': 0.00404040404040404, 'esse': 0.00404040404040404, 'ele': 0.00404040404040404, 'via': 0.00404040404040404, 'mais': 0.00404040404040404, 'uma': 0.00404040404040404, 'uns': 0.00404040404040404, 'com': 0.00404040404040404, 'vou': 0.00404040404040404, 'novo': 0.00404040404040404, 'revelado': 0.00404040404040404, 'nova': 0.00404040404040404, 'ver': 0.00404040404040404, 'substituta': 0.00404040404040404, 'menor': 0.00404040404040404, 'carrinha': 0.00404040404040404, 'na': 0.00404040404040404, 'kkk': 0.00404040404040404, 'adeus': 0.00404040404040404, 'comprar': 0.00404040404040404, 'volta': 0.00404040404040404, '2019': 0.00404040404040404, '2020': 0.00202020202020202, 'fazer': 0.00202020202020202, 'etc': 0.00202020202020202, 'momento': 0.00202020202020202, 'clientes.': 0.00202020202020202, 'opção': 0.00202020202020202, 'caiu': 0.00202020202020202, 'vontade': 0.00202020202020202, 'pro': 0.00202020202020202, 'princesa': 0.00202020202020202, 'sonho': 0.00202020202020202, 'europa': 0.00202020202020202, 'salvem': 0.00202020202020202, 'bela': 0.00202020202020202, 'sai': 0.00202020202020202, 'ta': 0.00202020202020202, 'oq': 0.00202020202020202, 'destronada': 0.00202020202020202, 'v': 0.00202020202020202, 'gosteiiiii': 0.00202020202020202, 'maior': 0.00202020202020202, 'bonito': 0.00202020202020202, 'concorrentes': 0.00202020202020202, 'ganha': 0.00202020202020202, 'to': 0.00202020202020202, 'meio': 0.00202020202020202, 'hilux': 0.00202020202020202, 'terra': 0.00202020202020202, 'trabalhando': 0.00202020202020202, 'fixa': 0.00202020202020202, 'corolla”!': 0.00202020202020202, 'né': 0.00202020202020202, 'eh': 0.00202020202020202, 'revela': 0.00202020202020202, 'fé': 0.00202020202020202, 'del': 0.00202020202020202, 'sabia': 0.00202020202020202, '—': 0.00202020202020202, 'alguns': 0.00202020202020202, 'mossoró:': 0.00202020202020202, 'corola': 0.00202020202020202, 'etios': 0.00202020202020202, 'fui': 0.00202020202020202, 'aí': 0.00202020202020202, 'motorista': 0.00202020202020202, 'foda': 0.00202020202020202, 'questionei': 0.00202020202020202, 'falar': 0.00202020202020202, 'deixa': 0.00202020202020202, 'me': 0.00202020202020202, 'destaques': 0.00202020202020202, 'extinta': 0.00202020202020202, 'tava': 0.00202020202020202, 'por': 0.00202020202020202, 'atrás': 0.00202020202020202, 'rolê': 0.00202020202020202, 'apareceu': 0.00202020202020202, 'yaris': 0.00202020202020202, '😋': 0.00202020202020202, 'fzr': 0.00202020202020202, 'manter': 0.00202020202020202, 'pré': 0.00202020202020202, 'geração': 0.00202020202020202, 'qnd': 0.00202020202020202, 'fiquei': 0.00202020202020202, 'rolezão': 0.00202020202020202, 'sapatênis': 0.00202020202020202, '😎💪': 0.00202020202020202, 'começo': 0.00202020202020202, 'imagina': 0.00202020202020202, 'chega': 0.00202020202020202, 'dos': 0.00202020202020202, 'broxa': 0.00202020202020202, 'as': 0.00202020202020202, 'visual': 0.00202020202020202, 'potência': 0.00202020202020202, 'carai': 0.00202020202020202, 'vw': 0.00202020202020202, 'ipva': 0.00202020202020202, 'requisito': 0.00202020202020202, 'tem': 0.00202020202020202, 'superou': 0.00202020202020202, 'ma': 0.00202020202020202, 'novo,': 0.00202020202020202, 'tiver': 0.00202020202020202, 'peruas:': 0.00202020202020202, 'tira': 0.00202020202020202, 'achei': 0.00202020202020202, 'dirigir': 0.00202020202020202, 'existe': 0.00202020202020202, 'kk': 0.00202020202020202, 'corolla🙏😅': 0.00202020202020202, '“sr': 0.00202020202020202, 'aniversário': 0.00202020202020202, 'dele': 0.00202020202020202, 'maisvendidos': 0.00202020202020202, 'como': 0.00202020202020202, 'modelo': 0.00202020202020202, 'você': 0.00202020202020202, 'onda': 0.00202020202020202, 'kkkkkk': 0.00202020202020202, 'são': 0.00202020202020202, 'quanto': 0.00202020202020202, '😉': 0.00202020202020202, 'jailson': 0.00202020202020202, 'fez': 0.00202020202020202, 'na\\xa0europa': 0.00202020202020202, 'parisautoshow': 0.00202020202020202, 'quem': 0.00202020202020202, 'boy': 0.00202020202020202, 'ai': 0.00202020202020202, 'kmh': 0.00202020202020202, 'aqui': 0.00202020202020202, 'ainda': 0.00202020202020202, 'uber': 0.00202020202020202, 'nas': 0.00202020202020202, 'chamar': 0.00202020202020202, 'bicho': 0.00202020202020202, 'hahahahahahahahahaa': 0.00202020202020202, 'vida': 0.00202020202020202, 'pega': 0.00202020202020202, 'dai': 0.00202020202020202, 'aposentar': 0.00202020202020202, 'quesitos': 0.00202020202020202, 'veio': 0.00202020202020202, 'vô': 0.00202020202020202, 'desse': 0.00202020202020202, '30': 0.00202020202020202, 'qualidade': 0.00202020202020202, 'hoje': 0.00202020202020202, 'tudo': 0.00202020202020202, 'feio': 0.00202020202020202, 'lança': 0.00202020202020202, 'kakaka': 0.00202020202020202, 'neguim': 0.00202020202020202, 'muito': 0.00202020202020202, 'desejar': 0.00202020202020202, 'vôvô': 0.00202020202020202, 'rua': 0.00202020202020202, 'deus': 0.00202020202020202, 'poder': 0.00202020202020202, 'paris': 0.00202020202020202, 'vc': 0.00202020202020202, 'hatch': 0.00202020202020202, 'fosco': 0.00202020202020202, 'dia': 0.00202020202020202, 'vende': 0.00202020202020202, 'bora': 0.00202020202020202, 'sentra': 0.00202020202020202, 'num': 0.00202020202020202, 'ganho': 0.00202020202020202, 'cuidado': 0.00202020202020202, 'champanhe': 0.00202020202020202, 'superior': 0.00202020202020202, 'peguei': 0.00202020202020202, 'pagar': 0.00202020202020202, 'acabou': 0.00202020202020202, 'este': 0.00202020202020202, 'meno': 0.00202020202020202, 'pqp': 0.00202020202020202, '🙏🏻': 0.00202020202020202, 'fazendo': 0.00202020202020202, 'minha': 0.00202020202020202, 'perfeito': 0.00202020202020202, 'ideia': 0.00202020202020202, 'roniffer': 0.00202020202020202, 'viu': 0.00202020202020202, 'nojo': 0.00202020202020202, 'maisvendidosdia1': 0.00202020202020202, 'passar': 0.00202020202020202, 'pra': 0.00202020202020202, 'rey': 0.00202020202020202, 'tinha': 0.00202020202020202, 'forma': 0.00202020202020202, '20”': 0.00202020202020202, 'regressa': 0.00202020202020202, 'andar': 0.00202020202020202, 'disgraça': 0.00202020202020202, 'decidiu': 0.00202020202020202, 'eleacontece': 0.00202020202020202, 'sim': 0.00202020202020202, 'antes': 0.00202020202020202, 'kkkk': 0.00202020202020202, 'carona': 0.00202020202020202, 'setembro': 0.00202020202020202, 'bom': 0.00202020202020202, 'querendo': 0.00202020202020202, 'virtus': 0.00202020202020202, 'bons': 0.00202020202020202, 'chora': 0.00202020202020202, 'stationwagon': 0.00202020202020202, 'tá': 0.00202020202020202, 'recupera': 0.00202020202020202, '🎶': 0.00202020202020202, 'corolla...': 0.00202020202020202, 'mola': 0.00202020202020202, 'chucho': 0.00202020202020202, 'prata': 0.00202020202020202, 'caro': 0.00202020202020202, 'caminho': 0.00202020202020202}\n"
     ]
    }
   ],
   "source": [
    "print(Probabilidade_fundamental1)"
   ]
  },
  {
   "cell_type": "code",
   "execution_count": 71,
   "metadata": {},
   "outputs": [
    {
     "name": "stdout",
     "output_type": "stream",
     "text": [
      "{'um': 0.05028571428571429, 'corolla': 0.04982857142857143, 'que': 0.04617142857142857, 'de': 0.032, 'e': 0.028114285714285713, 'a': 0.018285714285714287, '': 0.015085714285714286, 'o': 0.0144, 'cara': 0.0128, 'agora': 0.012342857142857143, 'namora': 0.012114285714285715, 'dirige': 0.012114285714285715, 'blazer': 0.011885714285714286, 'usa': 0.011885714285714286, 'do': 0.0112, 'fala': 0.010971428571428571, 'é': 0.010514285714285714, 'vídeo': 0.008685714285714286, 'da': 0.008685714285714286, 'eu': 0.008228571428571429, 'com': 0.007542857142857143, 'na': 0.0070857142857142855, 'gostei': 0.006857142857142857, 'em': 0.006628571428571429, 'uma': 0.006628571428571429, 'no': 0.006171428571428572, 'não': 0.005942857142857143, 'só': 0.005485714285714286, 'toyota': 0.005485714285714286, 'carro': 0.005028571428571428, 'me': 0.0048, 'tem': 0.004571428571428572, 'mais': 0.004342857142857143, 'q': 0.004114285714285714, 'se': 0.0038857142857142857, 'ao': 0.0038857142857142857, 'pra': 0.0038857142857142857, 'para': 0.0032, 'meu': 0.0032, 'tá': 0.0032, 'ou': 0.0029714285714285715, 'ele': 0.0029714285714285715, 'boa': 0.002742857142857143, 'dos': 0.002742857142857143, 'mas': 0.002742857142857143, 'quando': 0.002742857142857143, 'hoje': 0.002742857142857143, 'os': 0.002514285714285714, 'ela': 0.002514285714285714, 'pai': 0.002514285714285714, 'quem': 0.002285714285714286, 'vai': 0.002285714285714286, 'por': 0.002285714285714286, 'ser': 0.002285714285714286, 'nissan': 0.002285714285714286, 'webmotors': 0.002285714285714286, 'sentra': 0.002285714285714286, 'opção': 0.002285714285714286, 'leka': 0.002285714285714286, 'num': 0.002057142857142857, '+': 0.002057142857142857, 'finge': 0.002057142857142857, 'civic': 0.002057142857142857, 'xei': 0.002057142857142857, 'seu': 0.0018285714285714285, 'minha': 0.0018285714285714285, 'sorteio': 0.0018285714285714285, 'era': 0.0018285714285714285, 'fortunas': 0.0018285714285714285, 'grandes': 0.0018285714285714285, 'n': 0.0018285714285714285, 'r$': 0.0016, 'dia': 0.0016, 'turbo': 0.0016, 'playlist': 0.0016, 'tinha': 0.0016, 'abafador': 0.0016, 'jac': 0.0016, 'vs': 0.0016, 'honda': 0.0016, 'escapamento': 0.0016, 'menor': 0.0016, 'alê': 0.0016, 'adicionei': 0.0016, 'nova': 0.0016, 'quer': 0.0016, 'gente': 0.0016, 'hj': 0.0013714285714285714, 'ignora': 0.0013714285714285714, 'casa': 0.0013714285714285714, 'frente': 0.0013714285714285714, 'já': 0.0013714285714285714, 'corolla:': 0.0013714285714285714, 'comprar': 0.0013714285714285714, 'uno': 0.0013714285714285714, 'você': 0.0013714285714285714, 'vendo': 0.0013714285714285714, '|': 0.0013714285714285714, 'sem': 0.001142857142857143, 'faz': 0.001142857142857143, 'taxação': 0.001142857142857143, '2018': 0.001142857142857143, 'pista': 0.001142857142857143, 'vou': 0.001142857142857143, 'quis': 0.001142857142857143, 'pq': 0.001142857142857143, 'esse': 0.001142857142857143, 'foi': 0.001142857142857143, 'dinheiro': 0.001142857142857143, 'saber': 0.001142857142857143, 'certeza': 0.001142857142857143, 'até': 0.001142857142857143, 'todo': 0.001142857142857143, 'ter': 0.001142857142857143, 'fazer': 0.001142857142857143, 'queria': 0.001142857142857143, '—': 0.001142857142857143, '20': 0.001142857142857143, 'x': 0.001142857142857143, 'pessoas': 0.001142857142857143, 'fosse': 0.0009142857142857143, 'bom': 0.0009142857142857143, 'sociedade': 0.0009142857142857143, 'volta': 0.0009142857142857143, 'pro': 0.0009142857142857143, 'dizer': 0.0009142857142857143, 'falamos': 0.0009142857142857143, 'as': 0.0009142857142857143, 'ver': 0.0009142857142857143, 'mesmo': 0.0009142857142857143, 'ir': 0.0009142857142857143, 'perua': 0.0009142857142857143, 'anos': 0.0009142857142857143, 'dono': 0.0009142857142857143, 'donos': 0.0009142857142857143, 'nosso': 0.0009142857142857143, 'vcs': 0.0009142857142857143, 'usado': 0.0009142857142857143, '18': 0.0009142857142857143, 'ai': 0.0009142857142857143, 'aqui': 0.0009142857142857143, 'tô': 0.0009142857142857143, 'fim': 0.0009142857142857143, 'nem': 0.0009142857142857143, 'tava': 0.0009142857142857143, 'ouvir': 0.0009142857142857143, 'aut': 0.0009142857142857143, 'oq': 0.0009142857142857143, 'f…': 0.0009142857142857143, 'será': 0.0009142857142857143, 'ta': 0.0009142857142857143, 'pros': 0.0009142857142857143, 'geração': 0.0009142857142857143, 'estamos': 0.0009142857142857143, 'acha': 0.0009142857142857143, 'parte': 0.0009142857142857143, 'fica': 0.0009142857142857143, 'também': 0.0009142857142857143, 'to': 0.0009142857142857143, 'sai': 0.0009142857142857143, 'comprou': 0.0006857142857142857, 'sorana': 0.0006857142857142857, 'fiat': 0.0006857142857142857, 'das': 0.0006857142857142857, 'esquerda': 0.0006857142857142857, 'carros': 0.0006857142857142857, 'tipo': 0.0006857142857142857, '2010': 0.0006857142857142857, 'corollabatidonão': 0.0006857142857142857, 'teu': 0.0006857142857142857, 'nos': 0.0006857142857142857, 'pessoa': 0.0006857142857142857, 'mundo': 0.0006857142857142857, 'pode': 0.0006857142857142857, 'quase': 0.0006857142857142857, 'dele': 0.0006857142857142857, 'suspensão': 0.0006857142857142857, 'aí': 0.0006857142857142857, 'mil': 0.0006857142857142857, 'dois': 0.0006857142857142857, 'chora': 0.0006857142857142857, 'rolê': 0.0006857142857142857, 'outros': 0.0006857142857142857, '1': 0.0006857142857142857, 'canal': 0.0006857142857142857, 'velho': 0.0006857142857142857, 'furiosos': 0.0006857142857142857, 'tiozão': 0.0006857142857142857, 'qual': 0.0006857142857142857, 'hora': 0.0006857142857142857, 'taxar': 0.0006857142857142857, 'independente': 0.0006857142857142857, 'vale': 0.0006857142857142857, '2005': 0.0006857142857142857, 'graças': 0.0006857142857142857, 'sou': 0.0006857142857142857, 'foto': 0.0006857142857142857, 'golf': 0.0006857142857142857, 'quiser': 0.0006857142857142857, 'veja': 0.0006857142857142857, 'deixa': 0.0006857142857142857, 'traseira': 0.0006857142857142857, 'variant': 0.0006857142857142857, 'verdadeiro': 0.0006857142857142857, 'champions': 0.0006857142857142857, 'vem': 0.0006857142857142857, 'time': 0.0006857142857142857, 'gênero': 0.0006857142857142857, 'parisautoshow': 0.0006857142857142857, 'novo': 0.0006857142857142857, 'vc': 0.0006857142857142857, 'família': 0.0006857142857142857, 'dentro': 0.0006857142857142857, 'final': 0.0006857142857142857, 'te': 0.0006857142857142857, 'futebol': 0.0006857142857142857, 'xuxuzinho': 0.0006857142857142857, '2019': 0.0006857142857142857, 'so': 0.0006857142857142857, 'como': 0.0006857142857142857, '600': 0.0006857142857142857, 'melhor': 0.0006857142857142857, 'vendendo': 0.0006857142857142857, 'merda': 0.0006857142857142857, 'disse': 0.0006857142857142857, 'aptoseu': 0.0006857142857142857, 'olá': 0.0006857142857142857, 'chega': 0.0006857142857142857, 'classe': 0.0006857142857142857, 'uber': 0.0006857142857142857, 'nao': 0.0006857142857142857, 'favor': 0.0006857142857142857, 'dar': 0.0006857142857142857, 'via': 0.0006857142857142857, 'desse': 0.0006857142857142857, 'pato…': 0.0006857142857142857, 'essa': 0.0006857142857142857, 'há': 0.0006857142857142857, 'tomar': 0.0006857142857142857, 'ja': 0.0006857142857142857, '7': 0.0006857142857142857, 'ah': 0.0006857142857142857, 'itaúbradesco': 0.0006857142857142857, 'velozes': 0.0006857142857142857, 'apto': 0.0006857142857142857, 'semana': 0.0006857142857142857, 'portamalas': 0.0006857142857142857, 'sim': 0.0006857142857142857, 'existe': 0.0006857142857142857, 'litros': 0.0006857142857142857, '13': 0.0006857142857142857, 'uns': 0.0006857142857142857, 'homem': 0.0006857142857142857, 'potente': 0.0006857142857142857, 'amiga': 0.0006857142857142857, 'pais': 0.00045714285714285713, 'chave': 0.00045714285714285713, 'trouxe': 0.00045714285714285713, 'km': 0.00045714285714285713, 'rede': 0.00045714285714285713, 'impor': 0.00045714285714285713, 'kkkk': 0.00045714285714285713, 'nada': 0.00045714285714285713, 'gosto': 0.00045714285714285713, 'pistola': 0.00045714285714285713, 'sindicatonacopa:': 0.00045714285714285713, 'i': 0.00045714285714285713, 'casar': 0.00045714285714285713, 'gli': 0.00045714285714285713, 'ganharam?': 0.00045714285714285713, 'à': 0.00045714285714285713, 'champanhe': 0.00045714285714285713, 'pronto': 0.00045714285714285713, 'contigo…': 0.00045714285714285713, 'disputava': 0.00045714285714285713, 'cuf': 0.00045714285714285713, 'galera': 0.00045714285714285713, 'campanha': 0.00045714285714285713, 'eram': 0.00045714285714285713, 'qualquer': 0.00045714285714285713, 'mulher': 0.00045714285714285713, 'africa': 0.00045714285714285713, '2': 0.00045714285714285713, 'onix': 0.00045714285714285713, 'carona': 0.00045714285714285713, 'quero': 0.00045714285714285713, 'punto': 0.00045714285714285713, 'depois': 0.00045714285714285713, 'america': 0.00045714285714285713, 'embora': 0.00045714285714285713, 'realidade': 0.00045714285714285713, 'dando': 0.00045714285714285713, 'andar': 0.00045714285714285713, 'motoristas': 0.00045714285714285713, 'forte': 0.00045714285714285713, 'rabão': 0.00045714285714285713, 'racha': 0.00045714285714285713, 'indo': 0.00045714285714285713, 'tão': 0.00045714285714285713, 'muito': 0.00045714285714285713, 'recebe': 0.00045714285714285713, 'vi': 0.00045714285714285713, 'divulgar': 0.00045714285714285713, 'entre': 0.00045714285714285713, 'conhecendo': 0.00045714285714285713, 'primeiro': 0.00045714285714285713, 'fora': 0.00045714285714285713, 'link': 0.00045714285714285713, 'vendidos': 0.00045714285714285713, 'la': 0.00045714285714285713, 'elite': 0.00045714285714285713, 'caralho': 0.00045714285714285713, 'brasil': 0.00045714285714285713, 'vias': 0.00045714285714285713, '7008films': 0.00045714285714285713, '.': 0.00045714285714285713, 'dá': 0.00045714285714285713, 'carmel': 0.00045714285714285713, 'bate': 0.00045714285714285713, 'ouça': 0.00045714285714285713, 'tomba': 0.00045714285714285713, 'jogo': 0.00045714285714285713, 'lugar': 0.00045714285714285713, 'pelo': 0.00045714285714285713, 'choraa': 0.00045714285714285713, 'né': 0.00045714285714285713, 'mentira': 0.00045714285714285713, '6': 0.00045714285714285713, 'c': 0.00045714285714285713, 'oceania': 0.00045714285714285713, 'financiados': 0.00045714285714285713, 'eh': 0.00045714285714285713, 'querendo': 0.00045714285714285713, 'rico': 0.00045714285714285713, 'hatchback': 0.00045714285714285713, 'lençóis': 0.00045714285714285713, 'feito': 0.00045714285714285713, 'ninguém': 0.00045714285714285713, 'apenas': 0.00045714285714285713, 'posso': 0.00045714285714285713, 'ref:1786573': 0.00045714285714285713, 'geralmente': 0.00045714285714285713, 'copa:': 0.00045714285714285713, '1º': 0.00045714285714285713, 'mrv': 0.00045714285714285713, 'então': 0.00045714285714285713, 'tenho': 0.00045714285714285713, 'sindicato': 0.00045714285714285713, 'povo': 0.00045714285714285713, 'deu': 0.00045714285714285713, 'valor': 0.00045714285714285713, '360°': 0.00045714285714285713, '2015': 0.00045714285714285713, 'tarde': 0.00045714285714285713, 'venda': 0.00045714285714285713, 'dei': 0.00045714285714285713, 'vez': 0.00045714285714285713, 'fusca': 0.00045714285714285713, 'muita': 0.00045714285714285713, 'atravessar': 0.00045714285714285713, 'deveria': 0.00045714285714285713, 'vê': 0.00045714285714285713, 'mãe': 0.00045714285714285713, 'acompanhante': 0.00045714285714285713, 'automático': 0.00045714285714285713, '60': 0.00045714285714285713, 'ophera': 0.00045714285714285713, 'premio': 0.00045714285714285713, 'acho': 0.00045714285714285713, 'parece': 0.00045714285714285713, 'fumando': 0.00045714285714285713, 'gostaria': 0.00045714285714285713, 'proibido': 0.00045714285714285713, 'vices': 0.00045714285714285713, 'fui': 0.00045714285714285713, 'reais': 0.00045714285714285713, 'veículo': 0.00045714285714285713, 'vocês': 0.00045714285714285713, 'azul': 0.00045714285714285713, 'barra': 0.00045714285714285713, 'premiação': 0.00045714285714285713, 'indecente': 0.00045714285714285713, 'aquele': 0.00045714285714285713, 'diz': 0.00045714285714285713, 'htt…': 0.00045714285714285713, '425': 0.00045714285714285713, 'tu': 0.00045714285714285713, 'preto': 0.00045714285714285713, 'são': 0.00045714285714285713, 'brasil:': 0.00045714285714285713, 'pouco': 0.00045714285714285713, 'redondarj': 0.00045714285714285713, '2017': 0.00045714285714285713, 'pagando': 0.00045714285714285713, 'moto': 0.00045714285714285713, 'detalhe…': 0.00045714285714285713, 'cmg': 0.00045714285714285713, 'graves': 0.00045714285714285713, 'sub': 0.00045714285714285713, 'masterdey': 0.00045714285714285713, '16v': 0.00045714285714285713, '3': 0.00045714285714285713, 'segundo': 0.00045714285714285713, 'média': 0.00045714285714285713, 'tempo': 0.00045714285714285713, 'paulistasp': 0.00045714285714285713, 'milhões': 0.00045714285714285713, 'falam': 0.00045714285714285713, 'acabou': 0.00045714285714285713, 'circunvalação': 0.00045714285714285713, 'falei': 0.00045714285714285713, '2003': 0.00045714285714285713, 'olha': 0.00045714285714285713, 'feridos': 0.00045714285714285713, 'alguém': 0.00045714285714285713, 'blindado': 0.00045714285714285713, 'sei': 0.00045714285714285713, 'tudo': 0.00045714285714285713, '2006': 0.00045714285714285713, 'acumular': 0.00045714285714285713, 'colocar': 0.00045714285714285713, 'maluco': 0.00045714285714285713, 'assim': 0.00045714285714285713, 'ref:1786521': 0.00045714285714285713, 'kits': 0.00045714285714285713, 'três': 0.00045714285714285713, 'taça': 0.00045714285714285713, 'aquela': 0.00045714285714285713, 'mês': 0.00045714285714285713, 'alguns': 0.00045714285714285713, 'hospital': 0.00045714285714285713, 'vermelho': 0.00045714285714285713, 'japonesa': 0.00045714285714285713, 'campeonato': 0.00045714285714285713, 'errado': 0.00045714285714285713, '😎': 0.00045714285714285713, 'dias': 0.00045714285714285713, 'oficina': 0.00045714285714285713, 'robo': 0.00045714285714285713, 'igual': 0.00045714285714285713, 'corolla.': 0.00045714285714285713, 'aberta': 0.00045714285714285713, 'concessionárias': 0.00045714285714285713, 'ne': 0.00045714285714285713, 'ideologia': 0.00045714285714285713, '4p': 0.00045714285714285713, 'your': 0.00045714285714285713, 'nas': 0.00045714285714285713, 'metalúrgica': 0.00045714285714285713, 'grana': 0.00045714285714285713, 'falou': 0.00045714285714285713, 'ouriçado': 0.00045714285714285713, 'algum': 0.00022857142857142857, 'pai”': 0.00022857142857142857, 'tiozões': 0.00022857142857142857, 'ball': 0.00022857142857142857, 'pegar': 0.00022857142857142857, 'recibos': 0.00022857142857142857, 'fagundes': 0.00022857142857142857, 'engana': 0.00022857142857142857, 'mercadinho': 0.00022857142857142857, '–': 0.00022857142857142857, 'alex': 0.00022857142857142857, 'kkkkkkkkkk': 0.00022857142857142857, 'cgzinha': 0.00022857142857142857, 'quatro': 0.00022857142857142857, 'joão': 0.00022857142857142857, 'derrubando': 0.00022857142857142857, 'arcondicionado': 0.00022857142857142857, 'frontal': 0.00022857142857142857, 'tijucano': 0.00022857142857142857, 'vizinho': 0.00022857142857142857, 'menina': 0.00022857142857142857, 'confiando': 0.00022857142857142857, 'tiazona': 0.00022857142857142857, 'naquele': 0.00022857142857142857, '0100': 0.00022857142857142857, 'fome': 0.00022857142857142857, 'cumb…': 0.00022857142857142857, 'foda': 0.00022857142857142857, 'acesso': 0.00022857142857142857, '1000': 0.00022857142857142857, 'gata': 0.00022857142857142857, 'ficou': 0.00022857142857142857, 'emprego': 0.00022857142857142857, 'seguir': 0.00022857142857142857, 'piada': 0.00022857142857142857, 'pqp': 0.00022857142857142857, 'bebê': 0.00022857142857142857, 'lá': 0.00022857142857142857, 'lo': 0.00022857142857142857, 'opressor': 0.00022857142857142857, 'própria': 0.00022857142857142857, 'ruim': 0.00022857142857142857, 'sigo': 0.00022857142857142857, 'podemos': 0.00022857142857142857, 'porto': 0.00022857142857142857, 'guarus': 0.00022857142857142857, 'criança': 0.00022857142857142857, 'tiago': 0.00022857142857142857, 'briga': 0.00022857142857142857, 'comentei': 0.00022857142857142857, 'barulho': 0.00022857142857142857, 'video': 0.00022857142857142857, 'termina': 0.00022857142857142857, '24x': 0.00022857142857142857, 'firma': 0.00022857142857142857, 'elementos': 0.00022857142857142857, 'fato': 0.00022857142857142857, 'deus': 0.00022857142857142857, 'plano': 0.00022857142857142857, 'chegou': 0.00022857142857142857, 'clara': 0.00022857142857142857, 'sonho': 0.00022857142857142857, 'vejo': 0.00022857142857142857, 'mano': 0.00022857142857142857, 'pov': 0.00022857142857142857, '25': 0.00022857142857142857, 'aro': 0.00022857142857142857, 'estudava': 0.00022857142857142857, 'sinto': 0.00022857142857142857, 'gustavo': 0.00022857142857142857, '20000km': 0.00022857142857142857, 'cadê': 0.00022857142857142857, 'fizeram': 0.00022857142857142857, 'lembrando': 0.00022857142857142857, '2790000:': 0.00022857142857142857, 'amp': 0.00022857142857142857, 'isso': 0.00022857142857142857, 'ryco': 0.00022857142857142857, 'diagnostico': 0.00022857142857142857, 'ana': 0.00022857142857142857, 'bancos': 0.00022857142857142857, 'duas': 0.00022857142857142857, 'ganha': 0.00022857142857142857, 'saude': 0.00022857142857142857, 'mil…': 0.00022857142857142857, 'fale': 0.00022857142857142857, 'achei': 0.00022857142857142857, 'atingir': 0.00022857142857142857, 'noção': 0.00022857142857142857, 'regular': 0.00022857142857142857, 'corinthiano': 0.00022857142857142857, 'perceber': 0.00022857142857142857, 'aepmatosinhos': 0.00022857142857142857, 'prédio': 0.00022857142857142857, 'deles': 0.00022857142857142857, 'doblô': 0.00022857142857142857, 'enquadraram': 0.00022857142857142857, '🛫': 0.00022857142857142857, '8690000': 0.00022857142857142857, 'parei': 0.00022857142857142857, 'deixar': 0.00022857142857142857, 'meia': 0.00022857142857142857, '🇺🇸prontomostrei': 0.00022857142857142857, 'queimando': 0.00022857142857142857, 'candidato': 0.00022857142857142857, 'sports': 0.00022857142857142857, 'bateu': 0.00022857142857142857, 'br': 0.00022857142857142857, 'prf': 0.00022857142857142857, 'negócio': 0.00022857142857142857, 'muitos': 0.00022857142857142857, 'acima': 0.00022857142857142857, 'insistir': 0.00022857142857142857, 'medical': 0.00022857142857142857, 'trai': 0.00022857142857142857, 'roda': 0.00022857142857142857, 'algo': 0.00022857142857142857, 'dá!': 0.00022857142857142857, 'haxa': 0.00022857142857142857, 'soler': 0.00022857142857142857, 'pena': 0.00022857142857142857, '13h29min': 0.00022857142857142857, 'centro': 0.00022857142857142857, 'acontecer': 0.00022857142857142857, 'bro': 0.00022857142857142857, 'varanda': 0.00022857142857142857, 'destino': 0.00022857142857142857, 'meio': 0.00022857142857142857, 'haha': 0.00022857142857142857, 'videooff': 0.00022857142857142857, 'problemático': 0.00022857142857142857, 'sport': 0.00022857142857142857, 'civil': 0.00022857142857142857, 'atrasada': 0.00022857142857142857, 'leia': 0.00022857142857142857, 'agente': 0.00022857142857142857, 'mini': 0.00022857142857142857, 'sustentada': 0.00022857142857142857, 'contrato': 0.00022857142857142857, 'morta': 0.00022857142857142857, 'juntava': 0.00022857142857142857, 'fico': 0.00022857142857142857, 'alarme': 0.00022857142857142857, 'funciona': 0.00022857142857142857, 'fiz': 0.00022857142857142857, 'magrao': 0.00022857142857142857, 'novos': 0.00022857142857142857, 'inscreva': 0.00022857142857142857, 'ficaram': 0.00022857142857142857, 'improvisado': 0.00022857142857142857, 'olhada': 0.00022857142857142857, 'tranquilo': 0.00022857142857142857, '29': 0.00022857142857142857, 'ti': 0.00022857142857142857, 'varela': 0.00022857142857142857, 'armados': 0.00022857142857142857, 'achar': 0.00022857142857142857, '“meu': 0.00022857142857142857, 'lula': 0.00022857142857142857, 'firme': 0.00022857142857142857, 'irmão': 0.00022857142857142857, 'listo': 0.00022857142857142857, 'whats': 0.00022857142857142857, 'mal': 0.00022857142857142857, 'kkkkkkkkkkkkkkk': 0.00022857142857142857, 'óbito': 0.00022857142857142857, 'proiba': 0.00022857142857142857, 'veranópolis': 0.00022857142857142857, 'lamber': 0.00022857142857142857, 'recuperado': 0.00022857142857142857, '30': 0.00022857142857142857, 'nr': 0.00022857142857142857, 'rodas': 0.00022857142857142857, 'teria': 0.00022857142857142857, '1984': 0.00022857142857142857, 'fechada': 0.00022857142857142857, 'note': 0.00022857142857142857, 'microempresário': 0.00022857142857142857, 'falta': 0.00022857142857142857, 'fodaaa': 0.00022857142857142857, 'cabeça': 0.00022857142857142857, 'cria': 0.00022857142857142857, 'garanto': 0.00022857142857142857, 'chance': 0.00022857142857142857, 'cor': 0.00022857142857142857, 'lembra': 0.00022857142857142857, 'kkkkkk': 0.00022857142857142857, 'pálio': 0.00022857142857142857, 'estranho': 0.00022857142857142857, 'riscar': 0.00022857142857142857, 'sportage': 0.00022857142857142857, 'e.': 0.00022857142857142857, '3k': 0.00022857142857142857, 'pedro': 0.00022857142857142857, 'lhuto': 0.00022857142857142857, 'feio': 0.00022857142857142857, 'mercedes': 0.00022857142857142857, 'problema': 0.00022857142857142857, 'amanhã': 0.00022857142857142857, 'kia': 0.00022857142857142857, 'titio': 0.00022857142857142857, 'canditado': 0.00022857142857142857, 'elena': 0.00022857142857142857, 'oficiais': 0.00022857142857142857, 'cortei': 0.00022857142857142857, 'happybirthdaybeyoncé': 0.00022857142857142857, 'financiada': 0.00022857142857142857, 'passa': 0.00022857142857142857, 'periferia': 0.00022857142857142857, 'menos': 0.00022857142857142857, 'junto': 0.00022857142857142857, 'jetta': 0.00022857142857142857, 'transferir': 0.00022857142857142857, 'antes': 0.00022857142857142857, 'monsenhor': 0.00022857142857142857, 'ano': 0.00022857142857142857, 'pelos': 0.00022857142857142857, 'land': 0.00022857142857142857, 'kanye': 0.00022857142857142857, 'nisso': 0.00022857142857142857, 'bêbado': 0.00022857142857142857, 'baile': 0.00022857142857142857, 'palio': 0.00022857142857142857, 'bmw:': 0.00022857142857142857, 'prisma': 0.00022857142857142857, 'daqui': 0.00022857142857142857, 'luz': 0.00022857142857142857, 'doméstica': 0.00022857142857142857, 'us$': 0.00022857142857142857, 'hilux': 0.00022857142857142857, 'chevette': 0.00022857142857142857, 'estiver': 0.00022857142857142857, 'hipocrita': 0.00022857142857142857, 'risada': 0.00022857142857142857, 'altos': 0.00022857142857142857, 'alta': 0.00022857142857142857, '🔴vendese': 0.00022857142857142857, 'sistema': 0.00022857142857142857, '2018automatico': 0.00022857142857142857, 'morreram': 0.00022857142857142857, '[vs]': 0.00022857142857142857, 'omega': 0.00022857142857142857, 'despenca': 0.00022857142857142857, 've': 0.00022857142857142857, 'passageiros': 0.00022857142857142857, 'rapaz': 0.00022857142857142857, 'rodando': 0.00022857142857142857, 'audi': 0.00022857142857142857, 'reunião': 0.00022857142857142857, 'trem': 0.00022857142857142857, 'pilotando': 0.00022857142857142857, 'pedal': 0.00022857142857142857, 'informações': 0.00022857142857142857, 'horas': 0.00022857142857142857, 'universidade': 0.00022857142857142857, 'craigslist': 0.00022857142857142857, 'funciona!': 0.00022857142857142857, 'der': 0.00022857142857142857, 'mnr': 0.00022857142857142857, 'tlhem..': 0.00022857142857142857, 'matosinho…': 0.00022857142857142857, 'rover': 0.00022857142857142857, 'difícil': 0.00022857142857142857, 'demais': 0.00022857142857142857, 'fude': 0.00022857142857142857, 'oprimido': 0.00022857142857142857, 'conversar': 0.00022857142857142857, 'campeão?': 0.00022857142857142857, 'fox': 0.00022857142857142857, 'cumbuco': 0.00022857142857142857, 'imposto': 0.00022857142857142857, 'desceu': 0.00022857142857142857, 'espera': 0.00022857142857142857, 'tio': 0.00022857142857142857, 'al': 0.00022857142857142857, 'almir': 0.00022857142857142857, 'rendeu': 0.00022857142857142857, 'fallido': 0.00022857142857142857, 'ônix': 0.00022857142857142857, 'oportunidade': 0.00022857142857142857, 'pesado': 0.00022857142857142857, 'aluguel': 0.00022857142857142857, 'educaçao': 0.00022857142857142857, 'countryman': 0.00022857142857142857, 'puta': 0.00022857142857142857, 'ponte': 0.00022857142857142857, 'homens': 0.00022857142857142857, 'fé': 0.00022857142857142857, 'limpa…': 0.00022857142857142857, 'autos': 0.00022857142857142857, 'parar': 0.00022857142857142857, 'sedasmedios': 0.00022857142857142857, 'corsa': 0.00022857142857142857, 'branco': 0.00022857142857142857, 'dm': 0.00022857142857142857, 'at': 0.00022857142857142857, 'lado': 0.00022857142857142857, 'seguro': 0.00022857142857142857, 'começou': 0.00022857142857142857, 'capa': 0.00022857142857142857, 'ar': 0.00022857142857142857, 'tento': 0.00022857142857142857, 'encima': 0.00022857142857142857, 'vim': 0.00022857142857142857, 'group:': 0.00022857142857142857, 'hrv': 0.00022857142857142857, 'credo': 0.00022857142857142857, 'coisas': 0.00022857142857142857, 'r8': 0.00022857142857142857, 'favorito': 0.00022857142857142857, 'serenar': 0.00022857142857142857, 'multimilionários(vc': 0.00022857142857142857, 'homi': 0.00022857142857142857, 'estrelas': 0.00022857142857142857, 'aproveite': 0.00022857142857142857, 'perna': 0.00022857142857142857, 'legal': 0.00022857142857142857, 'cotas': 0.00022857142857142857, 'foto:': 0.00022857142857142857, 'morena': 0.00022857142857142857, 'banco': 0.00022857142857142857, 'trânsito': 0.00022857142857142857, 'corolla”': 0.00022857142857142857, 'excelente': 0.00022857142857142857, 'perseguição': 0.00022857142857142857, 'palavras.': 0.00022857142857142857, 'mão': 0.00022857142857142857, 'tirando': 0.00022857142857142857, 'eleitor': 0.00022857142857142857, 'escritório': 0.00022857142857142857, 'arrastão': 0.00022857142857142857, 'aquela…': 0.00022857142857142857, 'fila': 0.00022857142857142857, 'mérdia': 0.00022857142857142857, 'dirigir': 0.00022857142857142857, 'chefe': 0.00022857142857142857, 'ela”': 0.00022857142857142857, '12': 0.00022857142857142857, 'coisa': 0.00022857142857142857, 'ocupantes': 0.00022857142857142857, 'bento': 0.00022857142857142857, 'bairro': 0.00022857142857142857, 'vlog7008': 0.00022857142857142857, 'wkwjsksk': 0.00022857142857142857, 'kkkkkkkkkkkkkkkkkkkkkkkkkkkkkkkkkk': 0.00022857142857142857, 'vr': 0.00022857142857142857, 'semanalmente': 0.00022857142857142857, 'hb20s': 0.00022857142857142857, 'jettaaaaaaa': 0.00022857142857142857, 'vaga': 0.00022857142857142857, 'uninho': 0.00022857142857142857, 'condições': 0.00022857142857142857, 'lei': 0.00022857142857142857, 'corollawhisky': 0.00022857142857142857, 'esqueça': 0.00022857142857142857, 'bastante': 0.00022857142857142857, 'missão': 0.00022857142857142857, 'trouxa': 0.00022857142857142857, 'a…': 0.00022857142857142857, 'esses': 0.00022857142857142857, 'bota': 0.00022857142857142857, '5': 0.00022857142857142857, 'álvaro': 0.00022857142857142857, '8': 0.00022857142857142857, 'devia': 0.00022857142857142857, 'tivesse': 0.00022857142857142857, 'faxineira': 0.00022857142857142857, 'acabar': 0.00022857142857142857, '🎶': 0.00022857142857142857, 'rs': 0.00022857142857142857, 'cabelos': 0.00022857142857142857, '32222828': 0.00022857142857142857, 'ba': 0.00022857142857142857, 'inclusive': 0.00022857142857142857, 'lembrava': 0.00022857142857142857, '11h': 0.00022857142857142857, 'outro': 0.00022857142857142857, 'choraaa': 0.00022857142857142857, 'hornet': 0.00022857142857142857, 'etioszão': 0.00022857142857142857, 'bovino': 0.00022857142857142857, 'ruído': 0.00022857142857142857, 'sexta:': 0.00022857142857142857, 'têm': 0.00022857142857142857, 'considerar': 0.00022857142857142857, 'herdar': 0.00022857142857142857, 'boston': 0.00022857142857142857, 'medicina': 0.00022857142857142857, 'celeiro': 0.00022857142857142857, 'daily': 0.00022857142857142857, 'sala': 0.00022857142857142857, 'pesada': 0.00022857142857142857, 'dirigindo': 0.00022857142857142857, '55000': 0.00022857142857142857, '36x': 0.00022857142857142857, '🤦🏻\\u200d♂️🤦🏻\\u200d♂️': 0.00022857142857142857, 'cheio': 0.00022857142857142857, 'seg': 0.00022857142857142857, 'próprias': 0.00022857142857142857, 'larissa': 0.00022857142857142857, 'cantar': 0.00022857142857142857, 'titular': 0.00022857142857142857, 'respondi': 0.00022857142857142857, 'pacumê': 0.00022857142857142857, 'ofrece': 0.00022857142857142857, 'porcaria': 0.00022857142857142857, 'preço': 0.00022857142857142857, 'capô': 0.00022857142857142857, 'onda': 0.00022857142857142857, 'chegar': 0.00022857142857142857, \"i've\": 0.00022857142857142857, 'porra': 0.00022857142857142857, 'vira': 0.00022857142857142857, 'rsrsrsrs': 0.00022857142857142857, 'pagamento.': 0.00022857142857142857, 'preso': 0.00022857142857142857, 'resort': 0.00022857142857142857, 'comenta': 0.00022857142857142857, 'sedan': 0.00022857142857142857, 'rápido': 0.00022857142857142857, 'civiccorolla': 0.00022857142857142857, 'cepsa': 0.00022857142857142857, 'procurando': 0.00022857142857142857, 'poupeeeee': 0.00022857142857142857, 'chuva': 0.00022857142857142857, 'escrever': 0.00022857142857142857, '4400000:': 0.00022857142857142857, 'qndo': 0.00022857142857142857, 'publica': 0.00022857142857142857, 'tens': 0.00022857142857142857, 'realidades': 0.00022857142857142857, 'portão': 0.00022857142857142857, 'tupeloms': 0.00022857142857142857, 'vice': 0.00022857142857142857, '157': 0.00022857142857142857, 'noticiaperseguicaoterminacomumpresoecorollarecuperadoembairrodeguarus': 0.00022857142857142857, 'lanche.': 0.00022857142857142857, 'engenharias': 0.00022857142857142857, 'verdade': 0.00022857142857142857, '\\U0001f92e': 0.00022857142857142857, 'boleia': 0.00022857142857142857, 'olhos': 0.00022857142857142857, 'sortuda': 0.00022857142857142857, 'fez': 0.00022857142857142857, 'anna': 0.00022857142857142857, 'dragon': 0.00022857142857142857, 'levado': 0.00022857142857142857, 'parafusos': 0.00022857142857142857, 'encara': 0.00022857142857142857, 'couro': 0.00022857142857142857, 'nunca': 0.00022857142857142857, 'abaixo': 0.00022857142857142857, 'soranatoyota': 0.00022857142857142857, 'fiesta': 0.00022857142857142857, 'meus': 0.00022857142857142857, 'estudante': 0.00022857142857142857, 'puder': 0.00022857142857142857, 'pixadíssimo': 0.00022857142857142857, '2007:': 0.00022857142857142857, 'tomara': 0.00022857142857142857, 'hatch': 0.00022857142857142857, 'contra': 0.00022857142857142857, 'culpa': 0.00022857142857142857, 'torciamos': 0.00022857142857142857, 'diversas': 0.00022857142857142857, '21': 0.00022857142857142857, 'ep': 0.00022857142857142857, 'tera': 0.00022857142857142857, 'auris': 0.00022857142857142857, 'trindade': 0.00022857142857142857, 'preocupada': 0.00022857142857142857, 'rotunda': 0.00022857142857142857, 'invadiu': 0.00022857142857142857, 'veranópolisdois': 0.00022857142857142857, 'impôr': 0.00022857142857142857, 'arrogante': 0.00022857142857142857, 'estarás': 0.00022857142857142857, 'sony': 0.00022857142857142857, 'amor': 0.00022857142857142857, 'estão': 0.00022857142857142857, 'my': 0.00022857142857142857, '😁😍👏❤️': 0.00022857142857142857, '4400000': 0.00022857142857142857, 'tropa': 0.00022857142857142857, 'contrária': 0.00022857142857142857, 'polícia': 0.00022857142857142857, 'toddynho': 0.00022857142857142857, 'peça': 0.00022857142857142857, '2790000': 0.00022857142857142857, 'começa': 0.00022857142857142857, 'crissiumal': 0.00022857142857142857, 'esposa': 0.00022857142857142857, 'lobs': 0.00022857142857142857, 'toyotacorolla': 0.00022857142857142857, 'encontro': 0.00022857142857142857, '10': 0.00022857142857142857, '2012': 0.00022857142857142857, 'depto': 0.00022857142857142857, 'apt': 0.00022857142857142857, 'meta': 0.00022857142857142857, 'trás': 0.00022857142857142857, 'bônus': 0.00022857142857142857, 'colisão': 0.00022857142857142857, 'tirou': 0.00022857142857142857, 'ainda': 0.00022857142857142857, 'radar': 0.00022857142857142857, 'miami': 0.00022857142857142857, 'dó': 0.00022857142857142857, 'p': 0.00022857142857142857, 'orgulho': 0.00022857142857142857, 'mim.': 0.00022857142857142857, 'detalhes': 0.00022857142857142857, 'traficante': 0.00022857142857142857, 'h…': 0.00022857142857142857, 'geral': 0.00022857142857142857, 'inbox': 0.00022857142857142857, 'exclusivo': 0.00022857142857142857, 'viajava': 0.00022857142857142857, 'fedido': 0.00022857142857142857, 'vermelho”': 0.00022857142857142857, 'mazda': 0.00022857142857142857, 'domingo': 0.00022857142857142857, 'facul': 0.00022857142857142857, 'ratificar': 0.00022857142857142857, 'maravilhoso': 0.00022857142857142857, 'candidata': 0.00022857142857142857, 'brother': 0.00022857142857142857, 'consagrado': 0.00022857142857142857, '8190000': 0.00022857142857142857, 'considerado': 0.00022857142857142857, 'sami': 0.00022857142857142857, 'kit': 0.00022857142857142857, 'manual': 0.00022857142857142857, 'próximo': 0.00022857142857142857, 'vir': 0.00022857142857142857, 'destr': 0.00022857142857142857, 'mais:': 0.00022857142857142857, 'esperando': 0.00022857142857142857, 'acendi': 0.00022857142857142857, 'partir': 0.00022857142857142857, 'medo': 0.00022857142857142857, 'fechar': 0.00022857142857142857, 'disney': 0.00022857142857142857, 'saindo': 0.00022857142857142857, 'comprei': 0.00022857142857142857, 'mt': 0.00022857142857142857, 'grau': 0.00022857142857142857, 'jovem': 0.00022857142857142857, 'patrimônio': 0.00022857142857142857, 'bala': 0.00022857142857142857, 'quanto': 0.00022857142857142857, 'novato': 0.00022857142857142857, '293': 0.00022857142857142857, 'is': 0.00022857142857142857, 'coincidência': 0.00022857142857142857, '87500': 0.00022857142857142857, 'eua': 0.00022857142857142857, 'corolla\"': 0.00022857142857142857, 'prêmio': 0.00022857142857142857, 'sobre': 0.00022857142857142857, 'vendese\\xa0': 0.00022857142857142857, 'aliás': 0.00022857142857142857, 'conheceu': 0.00022857142857142857, 'presidenciáveis': 0.00022857142857142857, 'som': 0.00022857142857142857, 'capotando': 0.00022857142857142857, 'z': 0.00022857142857142857, 'especial': 0.00022857142857142857, 'eleitores': 0.00022857142857142857, 'candidatos': 0.00022857142857142857, 'atrás': 0.00022857142857142857, 'trevo': 0.00022857142857142857, '“corolla': 0.00022857142857142857, '111': 0.00022857142857142857, 'veículos': 0.00022857142857142857, 'betvyou': 0.00022857142857142857, 'crise': 0.00022857142857142857, 'doer': 0.00022857142857142857, 'sentido': 0.00022857142857142857, '2016': 0.00022857142857142857, 'ônibus': 0.00022857142857142857, 'megan': 0.00022857142857142857, 'colidiram': 0.00022857142857142857, 'metalúrgico': 0.00022857142857142857, 'sua': 0.00022857142857142857, 'outra': 0.00022857142857142857, 'scratched': 0.00022857142857142857, 'morava': 0.00022857142857142857, 'vindo': 0.00022857142857142857, 'encolheu': 0.00022857142857142857, 'landau': 0.00022857142857142857, 'traseiras': 0.00022857142857142857, 'tiver': 0.00022857142857142857, 'quntou!!': 0.00022857142857142857, 'constantina': 0.00022857142857142857, 'clipe': 0.00022857142857142857, 'yaris': 0.00022857142857142857, 'antecipar': 0.00022857142857142857, 'aposentadoria': 0.00022857142857142857, 'ruaa': 0.00022857142857142857, 'orelhões': 0.00022857142857142857, 'mes.': 0.00022857142857142857, 'gosta': 0.00022857142857142857, 'percebe': 0.00022857142857142857, 'venha': 0.00022857142857142857, 'joguei': 0.00022857142857142857, 'custa': 0.00022857142857142857, 'controle': 0.00022857142857142857, 'shadai': 0.00022857142857142857, 'vamo': 0.00022857142857142857, 'fique': 0.00022857142857142857, 'disparei': 0.00022857142857142857, 'corollão': 0.00022857142857142857, 'motorista': 0.00022857142857142857, 'cruze': 0.00022857142857142857, 'promete': 0.00022857142857142857, 'primo': 0.00022857142857142857, '43°': 0.00022857142857142857, 'está': 0.00022857142857142857, 'aplicativo': 0.00022857142857142857, '981577016': 0.00022857142857142857, 'lt3': 0.00022857142857142857, 'indivíduo': 0.00022857142857142857, 'encomendou': 0.00022857142857142857, 'preparada': 0.00022857142857142857, 'meter': 0.00022857142857142857, 'kkkkkkkk': 0.00022857142857142857, 'loja': 0.00022857142857142857, 'escuta': 0.00022857142857142857, 'mille.': 0.00022857142857142857, 'relatar': 0.00022857142857142857, 'tuuudooo': 0.00022857142857142857, 'pensando': 0.00022857142857142857, 'neste': 0.00022857142857142857, 'cidadão': 0.00022857142857142857, 'sair': 0.00022857142857142857, 'acidente': 0.00022857142857142857, 'virar': 0.00022857142857142857, 'freio': 0.00022857142857142857, 'fora:': 0.00022857142857142857, 'lindas': 0.00022857142857142857, 'bora': 0.00022857142857142857, ':': 0.00022857142857142857, 'amante': 0.00022857142857142857, 'diesel': 0.00022857142857142857, 'julho': 0.00022857142857142857, 'arranhou': 0.00022857142857142857, 'estado': 0.00022857142857142857, 'banquinho': 0.00022857142857142857, 'bolsa': 0.00022857142857142857, 'lhe': 0.00022857142857142857, 'sábado…': 0.00022857142857142857, 'touring': 0.00022857142857142857, 'kkkkkkkkkkkkkkkkkkkkkkkkkk.': 0.00022857142857142857, 'loco': 0.00022857142857142857, 'painel': 0.00022857142857142857, 'music': 0.00022857142857142857, 'cair': 0.00022857142857142857, 'espelho': 0.00022857142857142857, 'el': 0.00022857142857142857, 'posto': 0.00022857142857142857, 'novinho': 0.00022857142857142857, 'liked': 0.00022857142857142857, 'modelo': 0.00022857142857142857, '!': 0.00022857142857142857, 'aprendi': 0.00022857142857142857, 'completo': 0.00022857142857142857, 'lembrar': 0.00022857142857142857, 'review': 0.00022857142857142857, 'clicar': 0.00022857142857142857, 'parça': 0.00022857142857142857, 'idelogia': 0.00022857142857142857, 'range': 0.00022857142857142857, 'aconteceu': 0.00022857142857142857, 'poha': 0.00022857142857142857, 'folha': 0.00022857142857142857, 'garantir': 0.00022857142857142857, 'sra': 0.00022857142857142857, 'agr': 0.00022857142857142857, 'todos': 0.00022857142857142857, 'tbm': 0.00022857142857142857, 'test': 0.00022857142857142857, 'revelada': 0.00022857142857142857, 'xli': 0.00022857142857142857, 'viado': 0.00022857142857142857, 'estuprados': 0.00022857142857142857, 'opinião': 0.00022857142857142857, 'prostitutas': 0.00022857142857142857, 'sorte': 0.00022857142857142857, 'misericórdia': 0.00022857142857142857, 'nasceu': 0.00022857142857142857, 'ó': 0.00022857142857142857, 'bois': 0.00022857142857142857, 'caro': 0.00022857142857142857, 'gostosa': 0.00022857142857142857, 'tanto': 0.00022857142857142857, 'sogrão': 0.00022857142857142857, 'aécio': 0.00022857142857142857, 'apolo': 0.00022857142857142857, 'surtando': 0.00022857142857142857, '🎶🎶🎶🎶': 0.00022857142857142857, 'tirar': 0.00022857142857142857, '470': 0.00022857142857142857, 'consulte': 0.00022857142857142857, 'gts': 0.00022857142857142857, 'formou': 0.00022857142857142857, 'detonou': 0.00022857142857142857, 'grande': 0.00022857142857142857, '“acho': 0.00022857142857142857, '😄': 0.00022857142857142857, 'parque': 0.00022857142857142857, 'aq': 0.00022857142857142857, 'buscar': 0.00022857142857142857, 'hashahsh': 0.00022857142857142857, 'conferir': 0.00022857142857142857, 'ajuda': 0.00022857142857142857, 'jojo': 0.00022857142857142857, 'sábado': 0.00022857142857142857, 'às': 0.00022857142857142857, 'desde': 0.00022857142857142857, 'andando': 0.00022857142857142857, '😂': 0.00022857142857142857, 'questão': 0.00022857142857142857, 'compra': 0.00022857142857142857, 'youtube': 0.00022857142857142857, '90': 0.00022857142857142857, 'mim': 0.00022857142857142857, 'rabão+': 0.00022857142857142857, 'menó': 0.00022857142857142857, 'parcela': 0.00022857142857142857, 'mandei': 0.00022857142857142857, 'arrancou': 0.00022857142857142857, '310k': 0.00022857142857142857, '“fica': 0.00022857142857142857, '9': 0.00022857142857142857, 'astra': 0.00022857142857142857, '😅🙏😍': 0.00022857142857142857, '👍🏽': 0.00022857142857142857, 'sempre': 0.00022857142857142857, 'trabalhar': 0.00022857142857142857, '2020': 0.00022857142857142857, 'ficar': 0.00022857142857142857, 'chama': 0.00022857142857142857, 'fazendo': 0.00022857142857142857, 'impôs': 0.00022857142857142857, 'onde': 0.00022857142857142857, 'fotos': 0.00022857142857142857, 'kush': 0.00022857142857142857, 'ápice': 0.00022857142857142857, 'comparativo': 0.00022857142857142857, 'muda': 0.00022857142857142857, 'colocou': 0.00022857142857142857, 'parked': 0.00022857142857142857, 'gilette': 0.00022857142857142857, 'imbecil': 0.00022857142857142857, 'fugir': 0.00022857142857142857, 'bem': 0.00022857142857142857, 'armas': 0.00022857142857142857, 'proibição': 0.00022857142857142857, 'apresenta': 0.00022857142857142857, 'saiu': 0.00022857142857142857, 'caso': 0.00022857142857142857, 'smashed': 0.00022857142857142857, '$4500': 0.00022857142857142857, 'recolhem': 0.00022857142857142857, 'parecer': 0.00022857142857142857, 'inclui': 0.00022857142857142857, 'voto': 0.00022857142857142857, 'bola': 0.00022857142857142857, 'fudeu': 0.00022857142857142857, 'pavê': 0.00022857142857142857, 'elantra': 0.00022857142857142857, 'carrao': 0.00022857142857142857, 'seminovos': 0.00022857142857142857, 'fifa': 0.00022857142857142857, 'vamos': 0.00022857142857142857, 'empregada': 0.00022857142857142857, 'entrada': 0.00022857142857142857, 'cm': 0.00022857142857142857, 'bacana.': 0.00022857142857142857, 'cartão': 0.00022857142857142857, 'extra': 0.00022857142857142857, 'olho': 0.00022857142857142857, 'passar': 0.00022857142857142857, 'borracha': 0.00022857142857142857, 'queimam': 0.00022857142857142857, 'certo': 0.00022857142857142857, 'augi': 0.00022857142857142857, 'mulheres': 0.00022857142857142857, 'orra': 0.00022857142857142857, 'nós': 0.00022857142857142857, 'papel': 0.00022857142857142857, 'câmbio': 0.00022857142857142857, 'diferente': 0.00022857142857142857, 'pamonha': 0.00022857142857142857, 'sobrancelha': 0.00022857142857142857, 'cidade': 0.00022857142857142857, 'interessado': 0.00022857142857142857, 'jerônimo': 0.00022857142857142857, 'toto': 0.00022857142857142857, 'envolveu': 0.00022857142857142857, 'sushi': 0.00022857142857142857, 'partido': 0.00022857142857142857, 'sentindo': 0.00022857142857142857, 'prensado': 0.00022857142857142857}\n"
     ]
    }
   ],
   "source": [
    "print(Probabilidade_descartavel1)"
   ]
  },
  {
   "cell_type": "code",
   "execution_count": 72,
   "metadata": {},
   "outputs": [
    {
     "name": "stdout",
     "output_type": "stream",
     "text": [
      "0      #toyota vai trocar auris por corolla em hatch ...\n",
      "6      rt @_makavelijones: eu só queria dizer pros do...\n",
      "8      rt @binhorec: acabou de acontecer um arrastão ...\n",
      "20     @veja com esse valor vai disputar com o toyota...\n",
      "27     em 2017, o toyota corolla ganhou frente nova n...\n",
      "39     mandaram avisar que os primo leão tão de corol...\n",
      "43                   @justbfr corolla melhor que civic 🙊\n",
      "44     rt @iverfiorin: fala que agora namora um cara ...\n",
      "45     manhumirim\\ncorolla sai da pista, tomba e bate...\n",
      "49     rt @iverfiorin: fala que agora namora um cara ...\n",
      "51     dica o que acontece se bucha da balança do cor...\n",
      "53     to no ônibus e senta do meu lado um boy com um...\n",
      "55     corolla xei 2009 automático\\n181 mil km\\ncompl...\n",
      "59     @robsondesouza35 @slavierohoteis  @robsondesou...\n",
      "66     e ela só finge que me ignora, diz que agora na...\n",
      "74     adicionei um vídeo a uma playlist @youtube htt...\n",
      "86     diesel de fora: nova toyota corolla touring sp...\n",
      "87     promoção!\\ntensor com rolamento correia altern...\n",
      "93     rt @_makavelijones: eu só queria dizer pros do...\n",
      "99     rt @quatrorodas: mais potente que golf variant...\n",
      "105    tem bloqueio do trânsito na br-470, em veranóp...\n",
      "108    a designação toyota corolla está de volta, sub...\n",
      "135    sábado dia de lavar o possante 🚘\\n#toyotacorol...\n",
      "139    coisa linda! 😍😍😍😍😍😍😍\\ntoyota do brasil, por fa...\n",
      "140    confisco\\n\\nsabe seu apto?seu corolla,batido?n...\n",
      "143    essa (fotos) é a nova versão station wagon do ...\n",
      "145    @mariobennerson já anunciaram um corolla fudid...\n",
      "165    ☛ toyota corolla xli 1.6  ➥ ano/modelo: 2006/2...\n",
      "168    corolla champanhe é bonito mas parece ser carr...\n",
      "170    @masafe1970 @blogdonoblat nao, pq isso nao res...\n",
      "171    manhumirim\\ncorolla sai da pista, tomba e bate...\n",
      "172    meu pai compra o corolla agora, vou colocar so...\n",
      "189    rt @iverfiorin: fala que agora namora um cara ...\n",
      "196    ela só finge que me ignora, fala que agora nam...\n",
      "197    pilotando um corolla traficante de brisola com...\n",
      "Name: Teste, dtype: object\n",
      "1      quando você vê o menó de corolla, nãão choraaa...\n",
      "2                @th3hydrogen tá estacionando o corolla?\n",
      "3      então se prepara que o próximo rolê é de corol...\n",
      "4      fala que agora namora um cara que usa blazer e...\n",
      "5      rt @iverfiorin: fala que agora namora um cara ...\n",
      "7      \"vários tem dólar, pião de corolla, vários ver...\n",
      "9      rt @_biellpereira: quando vc ve o menó de coro...\n",
      "10     gostei de um vídeo @youtube https://t.co/sits9...\n",
      "11     quando falam em taxar grandes fortunas o cara ...\n",
      "12     rt @binhorec: acabou de acontecer um arrastão ...\n",
      "13     gostei de um vídeo @youtube https://t.co/cwntn...\n",
      "14     gente meu primo ta assistindo um video no ytb ...\n",
      "15     #toyota vai trocar auris por corolla em hatch ...\n",
      "16     coisa linda! toyota do brasil, por favor, vend...\n",
      "17     a sociedade quis impor que eu fosse um fiat un...\n",
      "18     gostei de um vídeo @youtube https://t.co/djutz...\n",
      "19     rt @allyssonrister: quando falam em taxar gran...\n",
      "21     hoje, o corolla parou no meu lado, ai o pm fic...\n",
      "22     convencer ela a não compra o corolla e pegar o...\n",
      "23     2006 toyota corolla 1.8l engine motor oem 105k...\n",
      "24     rt @edupaganella: tem bloqueio do trânsito na ...\n",
      "25     ela só finge que me ignora fala que agora namo...\n",
      "26     homens a bordo de uma toyota corolla executam ...\n",
      "28     eu adoro esse gta v da vida real, os bandidos:...\n",
      "29     compartilhem!!! \\n\\naconteceu hoje a tarde na ...\n",
      "30     gostei de um vídeo @youtube https://t.co/kzpuj...\n",
      "31     lembrando que os que fala mal ,as mulher deles...\n",
      "32     \"grandes fortunas\" não é o corolla nem a hillu...\n",
      "33     rt @iverfiorin: fala que agora namora um cara ...\n",
      "34     toyota corolla: depois do hatch, é a vez da pe...\n",
      "                             ...                        \n",
      "162    ela só finge que me ignora\\nfala que agora nam...\n",
      "163    mal posso espera pra me aposentar e comprar um...\n",
      "164    #muñoninferior\\n#toyota #4333019245  #rh \\napl...\n",
      "166    rt @_makavelijones: eu só queria dizer pros do...\n",
      "167    carro muito zelado para exigentes, muito novo,...\n",
      "169    em 2017, o toyota corolla ganhou frente nova n...\n",
      "173    @s_c_a_j_2_5 @capitalistxavi tive um corolla l...\n",
      "174    toyota corolla 2019 #grandmotorstoyotamorumbi ...\n",
      "175    se tem uma coisa q vou sentir falta ano q vem ...\n",
      "176    está oficialmente aberta a sexta feira..... re...\n",
      "177    ela só finge que me ignora,fala que agora namo...\n",
      "178    fala que agora namora um cara que usa blazer e...\n",
      "179    não entendo o que as pessoas veem no corolla. ...\n",
      "180    dirigir o corolla do willy vey rodei bom retir...\n",
      "181    gostei de um vídeo @youtube https://t.co/1n3pe...\n",
      "182    @capitalistxavi @s_c_a_j_2_5 eu só não entendo...\n",
      "183    é museu queimando, é negro votando em bolsonaz...\n",
      "184    @thevictor31 só com esses aí vc já compra um c...\n",
      "185    rt @iverfiorin: fala que agora namora um cara ...\n",
      "186    ela só finge que me ignora, fala que agr namor...\n",
      "187             quando vc ve o menó de corolla, n choraa\n",
      "188    porto | radar em toyota corolla azul na circun...\n",
      "190    @quatrorodas mais um puta carro da toyota que,...\n",
      "191    saumi trouxe seu corolla e o gustavo trouxe sp...\n",
      "192    manhumirim\\ncorolla sai da pista, tomba e bate...\n",
      "193    rt @_makavelijones: eu só queria dizer pros do...\n",
      "194    chamei o uber, confirmou um corolla. motorista...\n",
      "195    ford ka+ 1.0 era 37 mil pesos brasileiros, hj ...\n",
      "198    rt @alexx42569433: ela só finge que me ignora\\...\n",
      "199    gostei de um vídeo @youtube https://t.co/vhkrl...\n",
      "Name: Teste, Length: 165, dtype: object\n"
     ]
    }
   ],
   "source": [
    "data2= pd.read_excel('Tweets.xlsx',sheet_name=1)\n",
    "Re2= data2.Teste[data.Controle == 1]\n",
    "Irr2=data2.Teste[data.Controle == 0]\n",
    "print(Re2)\n",
    "print(Irr2)"
   ]
  },
  {
   "cell_type": "code",
   "execution_count": 73,
   "metadata": {},
   "outputs": [],
   "source": [
    "relevante2=Limpar(Re2)\n",
    "Fundamental2=pd.Series(relevante)\n",
    "Probabilidade_fundamental2=dict(Fundamental2.value_counts(normalize=True))\n",
    "\n",
    "irrelevante=Limpar(Irr2)\n",
    "Descartavel2=pd.Series(irrelevante)\n",
    "Probabilidade_descartavel2=dict(Descartavel2.value_counts(normalize=True))\n"
   ]
  },
  {
   "cell_type": "code",
   "execution_count": 74,
   "metadata": {},
   "outputs": [
    {
     "name": "stdout",
     "output_type": "stream",
     "text": [
      "0           toyota\n",
      "1          corolla\n",
      "2          touring\n",
      "3           sports\n",
      "4                é\n",
      "5                a\n",
      "6            perua\n",
      "7       substituta\n",
      "8               da\n",
      "9          fielder\n",
      "10              um\n",
      "11         corolla\n",
      "12             não\n",
      "13               é\n",
      "14             uma\n",
      "15              ma\n",
      "16           ideia\n",
      "17               😋\n",
      "18           carai\n",
      "19              to\n",
      "20              de\n",
      "21          carona\n",
      "22             num\n",
      "23         corolla\n",
      "24             que\n",
      "25           carro\n",
      "26            foda\n",
      "27               o\n",
      "28         corolla\n",
      "29             tem\n",
      "          ...     \n",
      "465              o\n",
      "466         sentra\n",
      "467            não\n",
      "468          deixa\n",
      "469              a\n",
      "470        desejar\n",
      "471             eh\n",
      "472              q\n",
      "473        corolla\n",
      "474          carro\n",
      "475             de\n",
      "476           veio\n",
      "477          broxa\n",
      "478           nova\n",
      "479        corolla\n",
      "480       carrinha\n",
      "481              a\n",
      "482        caminho\n",
      "483            meu\n",
      "484             vô\n",
      "485             tá\n",
      "486        fazendo\n",
      "487    aniversário\n",
      "488           hoje\n",
      "489            dai\n",
      "490          ganho\n",
      "491             só\n",
      "492             um\n",
      "493        corolla\n",
      "494             só\n",
      "Length: 495, dtype: object\n"
     ]
    }
   ],
   "source": [
    "print(Fundamental2)"
   ]
  },
  {
   "cell_type": "code",
   "execution_count": 75,
   "metadata": {},
   "outputs": [
    {
     "name": "stdout",
     "output_type": "stream",
     "text": [
      "{'corolla': 0.09494949494949495, 'o': 0.04040404040404041, 'de': 0.03636363636363636, 'é': 0.03232323232323232, 'um': 0.030303030303030304, 'a': 0.020202020202020204, 'toyota': 0.01818181818181818, 'carro': 0.01818181818181818, 'que': 0.01616161616161616, 'e': 0.014141414141414142, 'do': 0.012121212121212121, 'q': 0.012121212121212121, 'em': 0.010101010101010102, 'touring': 0.010101010101010102, 'da': 0.010101010101010102, 'não': 0.010101010101010102, 'sports': 0.010101010101010102, 'eu': 0.00808080808080808, 'mas': 0.00808080808080808, 'perua': 0.00808080808080808, 'só': 0.00808080808080808, 'meu': 0.00808080808080808, 'no': 0.00808080808080808, 'gosto': 0.006060606060606061, 'quando': 0.006060606060606061, 'se': 0.006060606060606061, 'era': 0.006060606060606061, '': 0.006060606060606061, 'ter': 0.006060606060606061, 'já': 0.006060606060606061, 'ser': 0.00404040404040404, 'ficar': 0.00404040404040404, 'dei': 0.00404040404040404, 'pai': 0.00404040404040404, 'auris': 0.00404040404040404, 'fielder': 0.00404040404040404, 'esse': 0.00404040404040404, 'ele': 0.00404040404040404, 'via': 0.00404040404040404, 'mais': 0.00404040404040404, 'uma': 0.00404040404040404, 'uns': 0.00404040404040404, 'com': 0.00404040404040404, 'vou': 0.00404040404040404, 'novo': 0.00404040404040404, 'revelado': 0.00404040404040404, 'nova': 0.00404040404040404, 'ver': 0.00404040404040404, 'substituta': 0.00404040404040404, 'menor': 0.00404040404040404, 'carrinha': 0.00404040404040404, 'na': 0.00404040404040404, 'kkk': 0.00404040404040404, 'adeus': 0.00404040404040404, 'comprar': 0.00404040404040404, 'volta': 0.00404040404040404, '2019': 0.00404040404040404, '2020': 0.00202020202020202, 'fazer': 0.00202020202020202, 'etc': 0.00202020202020202, 'momento': 0.00202020202020202, 'clientes.': 0.00202020202020202, 'opção': 0.00202020202020202, 'caiu': 0.00202020202020202, 'vontade': 0.00202020202020202, 'pro': 0.00202020202020202, 'princesa': 0.00202020202020202, 'sonho': 0.00202020202020202, 'europa': 0.00202020202020202, 'salvem': 0.00202020202020202, 'bela': 0.00202020202020202, 'sai': 0.00202020202020202, 'ta': 0.00202020202020202, 'oq': 0.00202020202020202, 'destronada': 0.00202020202020202, 'v': 0.00202020202020202, 'gosteiiiii': 0.00202020202020202, 'maior': 0.00202020202020202, 'bonito': 0.00202020202020202, 'concorrentes': 0.00202020202020202, 'ganha': 0.00202020202020202, 'to': 0.00202020202020202, 'meio': 0.00202020202020202, 'hilux': 0.00202020202020202, 'terra': 0.00202020202020202, 'trabalhando': 0.00202020202020202, 'fixa': 0.00202020202020202, 'corolla”!': 0.00202020202020202, 'né': 0.00202020202020202, 'eh': 0.00202020202020202, 'revela': 0.00202020202020202, 'fé': 0.00202020202020202, 'del': 0.00202020202020202, 'sabia': 0.00202020202020202, '—': 0.00202020202020202, 'alguns': 0.00202020202020202, 'mossoró:': 0.00202020202020202, 'corola': 0.00202020202020202, 'etios': 0.00202020202020202, 'fui': 0.00202020202020202, 'aí': 0.00202020202020202, 'motorista': 0.00202020202020202, 'foda': 0.00202020202020202, 'questionei': 0.00202020202020202, 'falar': 0.00202020202020202, 'deixa': 0.00202020202020202, 'me': 0.00202020202020202, 'destaques': 0.00202020202020202, 'extinta': 0.00202020202020202, 'tava': 0.00202020202020202, 'por': 0.00202020202020202, 'atrás': 0.00202020202020202, 'rolê': 0.00202020202020202, 'apareceu': 0.00202020202020202, 'yaris': 0.00202020202020202, '😋': 0.00202020202020202, 'fzr': 0.00202020202020202, 'manter': 0.00202020202020202, 'pré': 0.00202020202020202, 'geração': 0.00202020202020202, 'qnd': 0.00202020202020202, 'fiquei': 0.00202020202020202, 'rolezão': 0.00202020202020202, 'sapatênis': 0.00202020202020202, '😎💪': 0.00202020202020202, 'começo': 0.00202020202020202, 'imagina': 0.00202020202020202, 'chega': 0.00202020202020202, 'dos': 0.00202020202020202, 'broxa': 0.00202020202020202, 'as': 0.00202020202020202, 'visual': 0.00202020202020202, 'potência': 0.00202020202020202, 'carai': 0.00202020202020202, 'vw': 0.00202020202020202, 'ipva': 0.00202020202020202, 'requisito': 0.00202020202020202, 'tem': 0.00202020202020202, 'superou': 0.00202020202020202, 'ma': 0.00202020202020202, 'novo,': 0.00202020202020202, 'tiver': 0.00202020202020202, 'peruas:': 0.00202020202020202, 'tira': 0.00202020202020202, 'achei': 0.00202020202020202, 'dirigir': 0.00202020202020202, 'existe': 0.00202020202020202, 'kk': 0.00202020202020202, 'corolla🙏😅': 0.00202020202020202, '“sr': 0.00202020202020202, 'aniversário': 0.00202020202020202, 'dele': 0.00202020202020202, 'maisvendidos': 0.00202020202020202, 'como': 0.00202020202020202, 'modelo': 0.00202020202020202, 'você': 0.00202020202020202, 'onda': 0.00202020202020202, 'kkkkkk': 0.00202020202020202, 'são': 0.00202020202020202, 'quanto': 0.00202020202020202, '😉': 0.00202020202020202, 'jailson': 0.00202020202020202, 'fez': 0.00202020202020202, 'na\\xa0europa': 0.00202020202020202, 'parisautoshow': 0.00202020202020202, 'quem': 0.00202020202020202, 'boy': 0.00202020202020202, 'ai': 0.00202020202020202, 'kmh': 0.00202020202020202, 'aqui': 0.00202020202020202, 'ainda': 0.00202020202020202, 'uber': 0.00202020202020202, 'nas': 0.00202020202020202, 'chamar': 0.00202020202020202, 'bicho': 0.00202020202020202, 'hahahahahahahahahaa': 0.00202020202020202, 'vida': 0.00202020202020202, 'pega': 0.00202020202020202, 'dai': 0.00202020202020202, 'aposentar': 0.00202020202020202, 'quesitos': 0.00202020202020202, 'veio': 0.00202020202020202, 'vô': 0.00202020202020202, 'desse': 0.00202020202020202, '30': 0.00202020202020202, 'qualidade': 0.00202020202020202, 'hoje': 0.00202020202020202, 'tudo': 0.00202020202020202, 'feio': 0.00202020202020202, 'lança': 0.00202020202020202, 'kakaka': 0.00202020202020202, 'neguim': 0.00202020202020202, 'muito': 0.00202020202020202, 'desejar': 0.00202020202020202, 'vôvô': 0.00202020202020202, 'rua': 0.00202020202020202, 'deus': 0.00202020202020202, 'poder': 0.00202020202020202, 'paris': 0.00202020202020202, 'vc': 0.00202020202020202, 'hatch': 0.00202020202020202, 'fosco': 0.00202020202020202, 'dia': 0.00202020202020202, 'vende': 0.00202020202020202, 'bora': 0.00202020202020202, 'sentra': 0.00202020202020202, 'num': 0.00202020202020202, 'ganho': 0.00202020202020202, 'cuidado': 0.00202020202020202, 'champanhe': 0.00202020202020202, 'superior': 0.00202020202020202, 'peguei': 0.00202020202020202, 'pagar': 0.00202020202020202, 'acabou': 0.00202020202020202, 'este': 0.00202020202020202, 'meno': 0.00202020202020202, 'pqp': 0.00202020202020202, '🙏🏻': 0.00202020202020202, 'fazendo': 0.00202020202020202, 'minha': 0.00202020202020202, 'perfeito': 0.00202020202020202, 'ideia': 0.00202020202020202, 'roniffer': 0.00202020202020202, 'viu': 0.00202020202020202, 'nojo': 0.00202020202020202, 'maisvendidosdia1': 0.00202020202020202, 'passar': 0.00202020202020202, 'pra': 0.00202020202020202, 'rey': 0.00202020202020202, 'tinha': 0.00202020202020202, 'forma': 0.00202020202020202, '20”': 0.00202020202020202, 'regressa': 0.00202020202020202, 'andar': 0.00202020202020202, 'disgraça': 0.00202020202020202, 'decidiu': 0.00202020202020202, 'eleacontece': 0.00202020202020202, 'sim': 0.00202020202020202, 'antes': 0.00202020202020202, 'kkkk': 0.00202020202020202, 'carona': 0.00202020202020202, 'setembro': 0.00202020202020202, 'bom': 0.00202020202020202, 'querendo': 0.00202020202020202, 'virtus': 0.00202020202020202, 'bons': 0.00202020202020202, 'chora': 0.00202020202020202, 'stationwagon': 0.00202020202020202, 'tá': 0.00202020202020202, 'recupera': 0.00202020202020202, '🎶': 0.00202020202020202, 'corolla...': 0.00202020202020202, 'mola': 0.00202020202020202, 'chucho': 0.00202020202020202, 'prata': 0.00202020202020202, 'caro': 0.00202020202020202, 'caminho': 0.00202020202020202}\n"
     ]
    }
   ],
   "source": [
    "print(Probabilidade_fundamental2)"
   ]
  },
  {
   "cell_type": "code",
   "execution_count": 76,
   "metadata": {},
   "outputs": [
    {
     "name": "stdout",
     "output_type": "stream",
     "text": [
      "0               quando\n",
      "1                 você\n",
      "2                   vê\n",
      "3                    o\n",
      "4                 menó\n",
      "5                   de\n",
      "6              corolla\n",
      "7                 nãão\n",
      "8             choraaaa\n",
      "9                 nãão\n",
      "10       choraaa🎶😂😂😂😂😂\n",
      "11                  tá\n",
      "12        estacionando\n",
      "13                   o\n",
      "14             corolla\n",
      "15               então\n",
      "16                  se\n",
      "17             prepara\n",
      "18                 que\n",
      "19                   o\n",
      "20             próximo\n",
      "21                rolê\n",
      "22                   é\n",
      "23                  de\n",
      "24             corolla\n",
      "25      hshshshshshshs\n",
      "26                   —\n",
      "27              kkkkkk\n",
      "28                medo\n",
      "29                fala\n",
      "             ...      \n",
      "2827               dos\n",
      "2828               90k\n",
      "2829               ela\n",
      "2830                só\n",
      "2831             finge\n",
      "2832               que\n",
      "2833                me\n",
      "2834               que\n",
      "2835             agora\n",
      "2836            namora\n",
      "2837                um\n",
      "2838              cara\n",
      "2839               que\n",
      "2840               usa\n",
      "2841            blazer\n",
      "2842                 e\n",
      "2843            dirige\n",
      "2844                um\n",
      "2845              tipo\n",
      "2846             barra\n",
      "2847            pesada\n",
      "2848            gostei\n",
      "2849                de\n",
      "2850                um\n",
      "2851             vídeo\n",
      "2852           corolla\n",
      "2853               xei\n",
      "2854              1999\n",
      "2855                  \n",
      "2856          detalhes\n",
      "Length: 2857, dtype: object\n"
     ]
    }
   ],
   "source": [
    "print(Descartavel2)"
   ]
  },
  {
   "cell_type": "code",
   "execution_count": 77,
   "metadata": {},
   "outputs": [
    {
     "name": "stdout",
     "output_type": "stream",
     "text": [
      "{'corolla': 0.05320266013300665, 'que': 0.04550227511375569, 'um': 0.04375218760938047, 'de': 0.03080154007700385, 'e': 0.02905145257262863, '': 0.021351067553377668, 'o': 0.01960098004900245, 'a': 0.014350717535876793, 'cara': 0.013300665033251663, 'do': 0.012250612530626532, 'toyota': 0.011550577528876444, 'namora': 0.010850542527126356, 'usa': 0.010850542527126356, 'dirige': 0.010850542527126356, 'agora': 0.010500525026251312, 'fala': 0.010150507525376268, 'blazer': 0.010150507525376268, 'em': 0.009800490024501224, 'é': 0.009800490024501224, 'no': 0.008750437521876094, 'não': 0.00840042002100105, 'me': 0.0077003850192509625, 'eu': 0.0077003850192509625, 'só': 0.007350367518375919, 'com': 0.005950297514875744, 'gostei': 0.0056002800140007, 'vídeo': 0.0056002800140007, 'quando': 0.0056002800140007, 'da': 0.005250262513125656, 'carro': 0.004900245012250612, 'tem': 0.004550227511375569, 'na': 0.004550227511375569, 'ela': 0.004200210010500525, 'mais': 0.004200210010500525, 'se': 0.0038501925096254812, 'grandes': 0.0035001750087504373, 'finge': 0.0035001750087504373, 'fortunas': 0.0035001750087504373, 'seu': 0.003150157507875394, 'os': 0.003150157507875394, 'civic': 0.003150157507875394, 'por': 0.00280014000700035, 'muito': 0.00280014000700035, 'pra': 0.00280014000700035, 'ao': 0.00280014000700035, 'vai': 0.00280014000700035, 'mas': 0.00280014000700035, 'uma': 0.00280014000700035, 'hatch': 0.002450122506125306, 'novo': 0.002450122506125306, 'meu': 0.002450122506125306, 'q': 0.002450122506125306, 'hoje': 0.002450122506125306, '2019': 0.002450122506125306, 'ignora': 0.002450122506125306, 'brasil': 0.002450122506125306, 'essa': 0.0021001050052502626, 'dos': 0.0021001050052502626, 'já': 0.0021001050052502626, 'foi': 0.0021001050052502626, 'todo': 0.0021001050052502626, 'tá': 0.0021001050052502626, 'minha': 0.0021001050052502626, 'sou': 0.0021001050052502626, 'fiat': 0.0021001050052502626, 'fica': 0.0021001050052502626, 'financiados': 0.0017500875043752187, 'né': 0.0017500875043752187, 'falam': 0.0017500875043752187, 'esse': 0.0017500875043752187, '—': 0.0017500875043752187, 'taxar': 0.0017500875043752187, 'tipo': 0.0017500875043752187, 'vc': 0.0017500875043752187, 'nova': 0.0017500875043752187, 'mil': 0.0017500875043752187, 'você': 0.0017500875043752187, 'apto': 0.0017500875043752187, 'até': 0.0017500875043752187, 'entre': 0.0017500875043752187, 'mrv': 0.0017500875043752187, 'ouriçado': 0.0017500875043752187, 'será': 0.001400070003500175, 'gênero': 0.001400070003500175, 'fosse': 0.001400070003500175, 'ter': 0.001400070003500175, 'são': 0.001400070003500175, 'uno': 0.001400070003500175, 'sociedade': 0.001400070003500175, '2018': 0.001400070003500175, 'chora': 0.001400070003500175, 'kkkk': 0.001400070003500175, 'quis': 0.001400070003500175, 'pros': 0.001400070003500175, 'estamos': 0.001400070003500175, 'barra': 0.001400070003500175, 'tudo': 0.001400070003500175, 'para': 0.001400070003500175, 'ele': 0.001400070003500175, 'graças': 0.001400070003500175, 'falamos': 0.001400070003500175, 'queria': 0.001400070003500175, 'donos': 0.001400070003500175, '88': 0.001400070003500175, '+': 0.001400070003500175, 'era': 0.001400070003500175, 'honda': 0.001400070003500175, 'taxação': 0.001400070003500175, 'n': 0.001400070003500175, 'nosso': 0.001400070003500175, 'qual': 0.001400070003500175, 'xei': 0.001400070003500175, 'vs': 0.001400070003500175, 'f…': 0.001400070003500175, 'leka': 0.001400070003500175, 'mercado': 0.001400070003500175, 'dizer': 0.001400070003500175, 'oem': 0.001400070003500175, 'está': 0.001400070003500175, 'coisa': 0.001400070003500175, 'contigo…': 0.001400070003500175, 'agr': 0.001400070003500175, 'quem': 0.001400070003500175, 'ac': 0.001400070003500175, 'bateu': 0.0010500525026251313, 'jac': 0.0010500525026251313, 'impor': 0.0010500525026251313, 'air': 0.0010500525026251313, 'bom': 0.0010500525026251313, 'chegar': 0.0010500525026251313, 'azul': 0.0010500525026251313, 'abafador': 0.0010500525026251313, 'te': 0.0010500525026251313, 'trocar': 0.0010500525026251313, 'esses': 0.0010500525026251313, 'disse': 0.0010500525026251313, 'rua': 0.0010500525026251313, 'sem': 0.0010500525026251313, 'menó': 0.0010500525026251313, 'ideologia': 0.0010500525026251313, 'escapamento': 0.0010500525026251313, '|': 0.0010500525026251313, 'kkkkk': 0.0010500525026251313, 'quase': 0.0010500525026251313, 'interrogacao': 0.0010500525026251313, 'europa': 0.0010500525026251313, 'casa': 0.0010500525026251313, 'teria': 0.0010500525026251313, 'sorteio': 0.0010500525026251313, 'auris': 0.0010500525026251313, 'achando': 0.0010500525026251313, 'uber': 0.0010500525026251313, 'mãe': 0.0010500525026251313, 'tropa': 0.0010500525026251313, 'as': 0.0010500525026251313, 'hj': 0.0010500525026251313, 'via': 0.0010500525026251313, 'touring': 0.0010500525026251313, 'sobre': 0.0010500525026251313, 'caralho': 0.0010500525026251313, 'pesada': 0.0010500525026251313, 'outro': 0.0010500525026251313, 'ser': 0.0010500525026251313, 'turbo': 0.0010500525026251313, 'vou': 0.0010500525026251313, 'como': 0.0010500525026251313, 'dom': 0.0010500525026251313, 'menor': 0.0010500525026251313, 'versão': 0.0010500525026251313, 'pelo': 0.0010500525026251313, 'hatches': 0.0010500525026251313, 'aí': 0.0010500525026251313, 'lado': 0.0010500525026251313, 'alê': 0.0010500525026251313, 'miles': 0.0010500525026251313, 'cuiabá': 0.0007000350017500875, 'nas': 0.0007000350017500875, 'depois': 0.0007000350017500875, 'pode': 0.0007000350017500875, 'dar': 0.0007000350017500875, 'dele': 0.0007000350017500875, 'sp': 0.0007000350017500875, 'ai': 0.0007000350017500875, 'xrs': 0.0007000350017500875, 'santarém': 0.0007000350017500875, 'corollabatidonão': 0.0007000350017500875, 'assim': 0.0007000350017500875, 'apareceu': 0.0007000350017500875, 'top': 0.0007000350017500875, 'porto': 0.0007000350017500875, 'pegar': 0.0007000350017500875, '2020': 0.0007000350017500875, 'vários': 0.0007000350017500875, '996545049': 0.0007000350017500875, 'julho': 0.0007000350017500875, 'in': 0.0007000350017500875, 'vê': 0.0007000350017500875, 'aqui': 0.0007000350017500875, 'di': 0.0007000350017500875, 'dois': 0.0007000350017500875, '34110884': 0.0007000350017500875, 'classe': 0.0007000350017500875, 'pistola': 0.0007000350017500875, 'conditioning': 0.0007000350017500875, 'madrugada': 0.0007000350017500875, 'puta': 0.0007000350017500875, 'sua': 0.0007000350017500875, 'favor': 0.0007000350017500875, 'teste': 0.0007000350017500875, 'chega': 0.0007000350017500875, 'geração': 0.0007000350017500875, 'tanque': 0.0007000350017500875, 'modelos': 0.0007000350017500875, '0km': 0.0007000350017500875, 'vez': 0.0007000350017500875, 'rolê': 0.0007000350017500875, 'pato…': 0.0007000350017500875, 'yaris': 0.0007000350017500875, 'confirmou': 0.0007000350017500875, 'frente': 0.0007000350017500875, 'aptoseu': 0.0007000350017500875, 'itaúbradesco': 0.0007000350017500875, 'certeza': 0.0007000350017500875, '2015': 0.0007000350017500875, 'trouxe': 0.0007000350017500875, '69': 0.0007000350017500875, 'sonho': 0.0007000350017500875, 'passa': 0.0007000350017500875, 'ricos': 0.0007000350017500875, 'ano': 0.0007000350017500875, 'automatico': 0.0007000350017500875, 'gente': 0.0007000350017500875, 'acho': 0.0007000350017500875, 'mano': 0.0007000350017500875, 'grande': 0.0007000350017500875, 'tenho': 0.0007000350017500875, 'confira': 0.0007000350017500875, 'pena': 0.0007000350017500875, 'cidade': 0.0007000350017500875, 'vi': 0.0007000350017500875, 'nada': 0.0007000350017500875, 'ta': 0.0007000350017500875, 'durou': 0.0007000350017500875, '180': 0.0007000350017500875, 'celta': 0.0007000350017500875, 'pro': 0.0007000350017500875, 'lhe': 0.0007000350017500875, 'lino': 0.0007000350017500875, 'quer': 0.0007000350017500875, 'esquerda': 0.0007000350017500875, 'espaço': 0.0007000350017500875, 'mal': 0.0007000350017500875, 'ver': 0.0007000350017500875, 'entendo': 0.0007000350017500875, '2011': 0.0007000350017500875, 'fest': 0.0007000350017500875, 'branco': 0.0007000350017500875, '2006': 0.0007000350017500875, 'aspas': 0.0007000350017500875, 'compra': 0.0007000350017500875, 'choraa': 0.0007000350017500875, 'ou': 0.0007000350017500875, 'sentido': 0.0007000350017500875, 'tinha': 0.0007000350017500875, 'missão': 0.0007000350017500875, 'tava': 0.0007000350017500875, 'fielder': 0.0007000350017500875, 'nãão': 0.0007000350017500875, 'veículo': 0.0007000350017500875, 'sabe': 0.0007000350017500875, '255': 0.0007000350017500875, 'sports': 0.0007000350017500875, 'história': 0.0007000350017500875, 'compressor': 0.0007000350017500875, 'vey': 0.0007000350017500875, 'oficina': 0.0007000350017500875, '10': 0.0007000350017500875, 'dono': 0.0007000350017500875, 'sedan': 0.0007000350017500875, 'traseira': 0.0007000350017500875, 've': 0.0007000350017500875, 'ficou': 0.0007000350017500875, 'willy': 0.0007000350017500875, 'gasolina': 0.0007000350017500875, '99984428': 0.0007000350017500875, 'nissan': 0.0007000350017500875, 'perua': 0.0007000350017500875, 'grana': 0.0007000350017500875, 'todos': 0.0007000350017500875, 'tomar': 0.0007000350017500875, 'email': 0.0007000350017500875, 'vida': 0.0007000350017500875, '2013': 0.0007000350017500875, 'enquadrou': 0.00035001750087504374, 'então': 0.00035001750087504374, 'np': 0.00035001750087504374, 'ford': 0.00035001750087504374, 'comum': 0.00035001750087504374, 'wallpaper': 0.00035001750087504374, 'portamalas': 0.00035001750087504374, 'le': 0.00035001750087504374, 'classics': 0.00035001750087504374, 'nome': 0.00035001750087504374, 'tapando': 0.00035001750087504374, 'caído': 0.00035001750087504374, 'convencer': 0.00035001750087504374, 'cobrar': 0.00035001750087504374, '1999': 0.00035001750087504374, 'mulher': 0.00035001750087504374, 'rh': 0.00035001750087504374, 'sapucaí': 0.00035001750087504374, 'diferenças': 0.00035001750087504374, 'tela': 0.00035001750087504374, 'pela': 0.00035001750087504374, 'vendido': 0.00035001750087504374, '50kmh': 0.00035001750087504374, 'grandmotorstoyotamorumbi': 0.00035001750087504374, 'cumpre': 0.00035001750087504374, 'preço': 0.00035001750087504374, '16v': 0.00035001750087504374, 'passeando': 0.00035001750087504374, 'trolamos': 0.00035001750087504374, 'news': 0.00035001750087504374, 'batendo': 0.00035001750087504374, 'acelerando': 0.00035001750087504374, 'abs': 0.00035001750087504374, 'automático': 0.00035001750087504374, 'gta': 0.00035001750087504374, 'entao.': 0.00035001750087504374, 'melhor': 0.00035001750087504374, 'equilíbrio': 0.00035001750087504374, 'ajudou': 0.00035001750087504374, 'carpointnews': 0.00035001750087504374, 'tempo': 0.00035001750087504374, 'pessoas': 0.00035001750087504374, '😎': 0.00035001750087504374, 'elementos': 0.00035001750087504374, 'momento': 0.00035001750087504374, 'levou...': 0.00035001750087504374, 'leito': 0.00035001750087504374, 'brigada': 0.00035001750087504374, 'trabalhadora': 0.00035001750087504374, 'sêsse.': 0.00035001750087504374, 'pq': 0.00035001750087504374, 'galera': 0.00035001750087504374, 'instalação': 0.00035001750087504374, '47': 0.00035001750087504374, 'limpe': 0.00035001750087504374, 'ka+': 0.00035001750087504374, '80': 0.00035001750087504374, 'estes': 0.00035001750087504374, 'irving': 0.00035001750087504374, 'curtir': 0.00035001750087504374, 'conforto': 0.00035001750087504374, 'pesos': 0.00035001750087504374, 'cromado': 0.00035001750087504374, 'tinham': 0.00035001750087504374, 'etios': 0.00035001750087504374, 'negócio': 0.00035001750087504374, 'japonês': 0.00035001750087504374, 'entrar': 0.00035001750087504374, 'projetos': 0.00035001750087504374, 'pedreiro': 0.00035001750087504374, 'susto': 0.00035001750087504374, '18l': 0.00035001750087504374, '0402': 0.00035001750087504374, 'avaliando': 0.00035001750087504374, 'determinado': 0.00035001750087504374, 'ligado': 0.00035001750087504374, 'td': 0.00035001750087504374, 'quatro': 0.00035001750087504374, 'ne': 0.00035001750087504374, 'revista': 0.00035001750087504374, 'hshshshshshshs': 0.00035001750087504374, '100': 0.00035001750087504374, '~zap~': 0.00035001750087504374, 'pista': 0.00035001750087504374, 'quero': 0.00035001750087504374, '600': 0.00035001750087504374, 'especial': 0.00035001750087504374, 'nessa': 0.00035001750087504374, 'queimando': 0.00035001750087504374, 'htt…': 0.00035001750087504374, 'automóvel': 0.00035001750087504374, 'aquela': 0.00035001750087504374, 'protesto': 0.00035001750087504374, 'otário': 0.00035001750087504374, 'exl': 0.00035001750087504374, 'modelo': 0.00035001750087504374, 'escutou': 0.00035001750087504374, 'casa!!': 0.00035001750087504374, 'feira..': 0.00035001750087504374, 'for': 0.00035001750087504374, 'acontecer': 0.00035001750087504374, 'assalto': 0.00035001750087504374, 'hehehehe': 0.00035001750087504374, 'falta': 0.00035001750087504374, 'deles': 0.00035001750087504374, 'sai': 0.00035001750087504374, 'giovannachaves': 0.00035001750087504374, 'aposentar': 0.00035001750087504374, 'portfólio': 0.00035001750087504374, 'repórter': 0.00035001750087504374, 'ncap': 0.00035001750087504374, 'cancelou': 0.00035001750087504374, 'limpa…': 0.00035001750087504374, 'lara': 0.00035001750087504374, 'gustavo': 0.00035001750087504374, 'oq': 0.00035001750087504374, 'popular': 0.00035001750087504374, 'fico': 0.00035001750087504374, 'pesa': 0.00035001750087504374, 'rebaixado': 0.00035001750087504374, 'cinza': 0.00035001750087504374, 'deverá': 0.00035001750087504374, 'visto': 0.00035001750087504374, 'cria': 0.00035001750087504374, 'assistindo': 0.00035001750087504374, 'logo': 0.00035001750087504374, 'kkkkkk': 0.00035001750087504374, 'oficialmente': 0.00035001750087504374, 'positividade': 0.00035001750087504374, 'ponte': 0.00035001750087504374, 'independente': 0.00035001750087504374, 'passo': 0.00035001750087504374, 'alguma': 0.00035001750087504374, 'empurrar': 0.00035001750087504374, 'hora': 0.00035001750087504374, 'escola': 0.00035001750087504374, 'to': 0.00035001750087504374, 'acreditar': 0.00035001750087504374, 'rodas': 0.00035001750087504374, 'tiozão': 0.00035001750087504374, 'brasileiros': 0.00035001750087504374, 'punto': 0.00035001750087504374, 'no.': 0.00035001750087504374, 'video': 0.00035001750087504374, 'monsenhor': 0.00035001750087504374, 'station': 0.00035001750087504374, 'preencher': 0.00035001750087504374, 'exemplo': 0.00035001750087504374, 'num': 0.00035001750087504374, 'precipício': 0.00035001750087504374, 'oficial': 0.00035001750087504374, 'corolla!': 0.00035001750087504374, 'acelerar': 0.00035001750087504374, 'alarme': 0.00035001750087504374, 'acaso': 0.00035001750087504374, 'digital:': 0.00035001750087504374, 'antes': 0.00035001750087504374, 'corona': 0.00035001750087504374, 'velozes': 0.00035001750087504374, 'confunde': 0.00035001750087504374, 'detalhes': 0.00035001750087504374, 'silvata': 0.00035001750087504374, 'a6': 0.00035001750087504374, 'inteligente': 0.00035001750087504374, '(': 0.00035001750087504374, 'cc': 0.00035001750087504374, 'participou': 0.00035001750087504374, 'dj': 0.00035001750087504374, 'aurélio': 0.00035001750087504374, 'crunchyroll': 0.00035001750087504374, 'conceito': 0.00035001750087504374, '4p': 0.00035001750087504374, 'sportege': 0.00035001750087504374, 'consagrado': 0.00035001750087504374, 'automotivos': 0.00035001750087504374, 'negro': 0.00035001750087504374, 'variant': 0.00035001750087504374, 'matosinhos': 0.00035001750087504374, 'vermes': 0.00035001750087504374, 'adoro': 0.00035001750087504374, 'motor': 0.00035001750087504374, 'rodei': 0.00035001750087504374, 'troca': 0.00035001750087504374, 'valença': 0.00035001750087504374, 'oi': 0.00035001750087504374, 'fotos': 0.00035001750087504374, 'vivos': 0.00035001750087504374, 'classificado': 0.00035001750087504374, 'senão': 0.00035001750087504374, 'poder': 0.00035001750087504374, 'lkq~184340399': 0.00035001750087504374, 'dólar': 0.00035001750087504374, 'alguém': 0.00035001750087504374, 'dado': 0.00035001750087504374, 'define': 0.00035001750087504374, 'mabel': 0.00035001750087504374, 'chamei': 0.00035001750087504374, 'hrv': 0.00035001750087504374, 'opções': 0.00035001750087504374, 'altos': 0.00035001750087504374, 'homens': 0.00035001750087504374, 'radar': 0.00035001750087504374, 'deixa': 0.00035001750087504374, 'tio': 0.00035001750087504374, 'ganhou': 0.00035001750087504374, 'opção': 0.00035001750087504374, 'igual': 0.00035001750087504374, 'nem': 0.00035001750087504374, 'possante': 0.00035001750087504374, 'museu': 0.00035001750087504374, 'nn': 0.00035001750087504374, 'combina': 0.00035001750087504374, 'demais': 0.00035001750087504374, 'eru': 0.00035001750087504374, '201618': 0.00035001750087504374, 'chance': 0.00035001750087504374, 'vicente': 0.00035001750087504374, 'kkkkkkkkkkkkkkk': 0.00035001750087504374, 'im': 0.00035001750087504374, 'citröen': 0.00035001750087504374, 'difícil': 0.00035001750087504374, 'posso': 0.00035001750087504374, 'live”': 0.00035001750087504374, 'mecanica': 0.00035001750087504374, 'desespero': 0.00035001750087504374, 'direito': 0.00035001750087504374, 'canal': 0.00035001750087504374, 'gnv': 0.00035001750087504374, 'álcool': 0.00035001750087504374, 'classic': 0.00035001750087504374, 'capotar': 0.00035001750087504374, 'avista': 0.00035001750087504374, 'sedã': 0.00035001750087504374, 'bate': 0.00035001750087504374, 'automotivas': 0.00035001750087504374, 'priusv': 0.00035001750087504374, '97k': 0.00035001750087504374, 'hinor': 0.00035001750087504374, '‘mc': 0.00035001750087504374, 'pm': 0.00035001750087504374, 'horto': 0.00035001750087504374, 'dizendo': 0.00035001750087504374, '60x': 0.00035001750087504374, '105k': 0.00035001750087504374, 'feito': 0.00035001750087504374, 'principalmente': 0.00035001750087504374, 'coitado': 0.00035001750087504374, '29': 0.00035001750087504374, 'testar': 0.00035001750087504374, 'acha': 0.00035001750087504374, 'camisa': 0.00035001750087504374, 'impostos': 0.00035001750087504374, 'casa\"': 0.00035001750087504374, 'alta': 0.00035001750087504374, 'veranópolis': 0.00035001750087504374, 'caminhoneiros': 0.00035001750087504374, 'sentir': 0.00035001750087504374, 'esta': 0.00035001750087504374, 'ruim': 0.00035001750087504374, 'achei': 0.00035001750087504374, 'pqp': 0.00035001750087504374, 'bordo': 0.00035001750087504374, 'balcão': 0.00035001750087504374, 'onteontem': 0.00035001750087504374, 'agente': 0.00035001750087504374, 'trânsito': 0.00035001750087504374, '90k': 0.00035001750087504374, 'veja': 0.00035001750087504374, 'exigentes': 0.00035001750087504374, 'lajeado': 0.00035001750087504374, 'pistolão': 0.00035001750087504374, 'veem': 0.00035001750087504374, 'prepara': 0.00035001750087504374, 'arrastão': 0.00035001750087504374, 'hotel': 0.00035001750087504374, 'esse\"': 0.00035001750087504374, 'ninguém': 0.00035001750087504374, 'dirigir': 0.00035001750087504374, 'reparos': 0.00035001750087504374, 't…': 0.00035001750087504374, 'n3': 0.00035001750087504374, 'ytb': 0.00035001750087504374, 'lançada': 0.00035001750087504374, 'medo': 0.00035001750087504374, 'matheus': 0.00035001750087504374, 'carrocerias': 0.00035001750087504374, 'mpn': 0.00035001750087504374, 'comprar': 0.00035001750087504374, 'mesma': 0.00035001750087504374, 'sucessagem': 0.00035001750087504374, 'v': 0.00035001750087504374, 'pastilhas': 0.00035001750087504374, 'hatchback': 0.00035001750087504374, 'pazeequilibrio…': 0.00035001750087504374, 'mecânica': 0.00035001750087504374, 'toyotoa': 0.00035001750087504374, '2994': 0.00035001750087504374, 'esqueça': 0.00035001750087504374, 'pião': 0.00035001750087504374, 'desbloqueio': 0.00035001750087504374, 'tyta': 0.00035001750087504374, 'voltasse': 0.00035001750087504374, 'voce': 0.00035001750087504374, 'rs': 0.00035001750087504374, 'fiquei': 0.00035001750087504374, 'gho': 0.00035001750087504374, 'golf': 0.00035001750087504374, 'placa': 0.00035001750087504374, 'devo': 0.00035001750087504374, 'interface': 0.00035001750087504374, 'olhando': 0.00035001750087504374, 'liftback': 0.00035001750087504374, 'grand': 0.00035001750087504374, 'ex': 0.00035001750087504374, 'pcd': 0.00035001750087504374, 'p': 0.00035001750087504374, 'eventuais': 0.00035001750087504374, 'etioszão': 0.00035001750087504374, 'ruído': 0.00035001750087504374, 'st': 0.00035001750087504374, 'tanto??': 0.00035001750087504374, 'vaporwave': 0.00035001750087504374, 'breve': 0.00035001750087504374, 'seg': 0.00035001750087504374, 'custava': 0.00035001750087504374, ')’': 0.00035001750087504374, '157': 0.00035001750087504374, '🤣🤣🤣': 0.00035001750087504374, '4333019245': 0.00035001750087504374, 'informada': 0.00035001750087504374, 'webmotors': 0.00035001750087504374, 'veio': 0.00035001750087504374, 'estacionando': 0.00035001750087504374, 'lkq~189020266': 0.00035001750087504374, 'junho': 0.00035001750087504374, 'diz': 0.00035001750087504374, 'segmento…': 0.00035001750087504374, 'pessoas…': 0.00035001750087504374, 'cidadão': 0.00035001750087504374, 'terá': 0.00035001750087504374, 'prejuízo': 0.00035001750087504374, '😭': 0.00035001750087504374, 'consideraria': 0.00035001750087504374, 'moradores': 0.00035001750087504374, 'termos': 0.00035001750087504374, 'friamente': 0.00035001750087504374, 'trocou': 0.00035001750087504374, 'fizeram': 0.00035001750087504374, 'boa': 0.00035001750087504374, 'coloquei': 0.00035001750087504374, 'paga': 0.00035001750087504374, 'bloqueio': 0.00035001750087504374, 'extremamente': 0.00035001750087504374, 'hb20s': 0.00035001750087504374, 'chamado': 0.00035001750087504374, 'abre': 0.00035001750087504374, 'suspensão': 0.00035001750087504374, 'conosco': 0.00035001750087504374, 'abastecido': 0.00035001750087504374, 'seus': 0.00035001750087504374, 'decepciona': 0.00035001750087504374, 'confundir': 0.00035001750087504374, 'cartaxo': 0.00035001750087504374, 'ignorafala': 0.00035001750087504374, 'caras': 0.00035001750087504374, '35': 0.00035001750087504374, 'mafioso': 0.00035001750087504374, 'sortuda': 0.00035001750087504374, 'altino': 0.00035001750087504374, 'juizo': 0.00035001750087504374, 'fingi': 0.00035001750087504374, 'digitação': 0.00035001750087504374, 'choraaaa': 0.00035001750087504374, 'encara': 0.00035001750087504374, 'hillux': 0.00035001750087504374, 'reais': 0.00035001750087504374, 'espera': 0.00035001750087504374, 'rivais': 0.00035001750087504374, 'march': 0.00035001750087504374, 'acabei': 0.00035001750087504374, 'dia': 0.00035001750087504374, 'impôr': 0.00035001750087504374, '100%': 0.00035001750087504374, 'encontra': 0.00035001750087504374, 'pensasse': 0.00035001750087504374, 'usados': 0.00035001750087504374, 'xli': 0.00035001750087504374, 'cnema': 0.00035001750087504374, 'outros': 0.00035001750087504374, 'desse': 0.00035001750087504374, 'nunca': 0.00035001750087504374, 'qualidade': 0.00035001750087504374, 'tiros': 0.00035001750087504374, 'preparada': 0.00035001750087504374, 'falando': 0.00035001750087504374, 'madeira': 0.00035001750087504374, 'lembrando': 0.00035001750087504374, 'holiday': 0.00035001750087504374, 'porque': 0.00035001750087504374, '63': 0.00035001750087504374, 'dms': 0.00035001750087504374, 'br470': 0.00035001750087504374, 'soundcloud': 0.00035001750087504374, 'impasse': 0.00035001750087504374, 'domingo': 0.00035001750087504374, 'família': 0.00035001750087504374, 'linha': 0.00035001750087504374, 'absoluto': 0.00035001750087504374, 'acabou': 0.00035001750087504374, 'encontrar': 0.00035001750087504374, 'focus': 0.00035001750087504374, 'eles': 0.00035001750087504374, 'carros:': 0.00035001750087504374, 'meta': 0.00035001750087504374, 'masterdey': 0.00035001750087504374, 'morar': 0.00035001750087504374, '201718': 0.00035001750087504374, 'argumentos': 0.00035001750087504374, 'líder': 0.00035001750087504374, 'realize': 0.00035001750087504374, 'morumbi': 0.00035001750087504374, 'segundo': 0.00035001750087504374, 'erros': 0.00035001750087504374, 'h…': 0.00035001750087504374, 'choraaa🎶😂😂😂😂😂': 0.00035001750087504374, 'carrão': 0.00035001750087504374, 'eita': 0.00035001750087504374, 'kkk': 0.00035001750087504374, '“toyota': 0.00035001750087504374, 'som': 0.00035001750087504374, 'vila': 0.00035001750087504374, '2017': 0.00035001750087504374, 'esperando': 0.00035001750087504374, 'gostosinhaaa': 0.00035001750087504374, 'wagon': 0.00035001750087504374, 'renovada': 0.00035001750087504374, 'fuga': 0.00035001750087504374, '28º': 0.00035001750087504374, 'vimeo:': 0.00035001750087504374, 'custando': 0.00035001750087504374, 'sentra': 0.00035001750087504374, 'prata': 0.00035001750087504374, 'troquei': 0.00035001750087504374, 'carpoint': 0.00035001750087504374, 'corollaclub': 0.00035001750087504374, 'controla.': 0.00035001750087504374, 'circunvalação': 0.00035001750087504374, 'muquiço': 0.00035001750087504374, 'novato': 0.00035001750087504374, '293': 0.00035001750087504374, 'puto': 0.00035001750087504374, '2': 0.00035001750087504374, 'teimoso': 0.00035001750087504374, 'trombo': 0.00035001750087504374, 'ir': 0.00035001750087504374, 'digo:': 0.00035001750087504374, 'tanto': 0.00035001750087504374, 'mim': 0.00035001750087504374, '37': 0.00035001750087504374, 'latin': 0.00035001750087504374, 'saiba': 0.00035001750087504374, '2016': 0.00035001750087504374, 'vítor': 0.00035001750087504374, 'conhece': 0.00035001750087504374, '24': 0.00035001750087504374, 'bico': 0.00035001750087504374, 'fecha': 0.00035001750087504374, 'paulo': 0.00035001750087504374, 'votando': 0.00035001750087504374, 'sports…': 0.00035001750087504374, 'carrinha': 0.00035001750087504374, 'posto': 0.00035001750087504374, 'bob': 0.00035001750087504374, 'tv': 0.00035001750087504374, '20': 0.00035001750087504374, 'dei': 0.00035001750087504374, 'conhecendo': 0.00035001750087504374, 'vem': 0.00035001750087504374, 'venda': 0.00035001750087504374, 'motorista': 0.00035001750087504374, 'cruze': 0.00035001750087504374, 'filtro': 0.00035001750087504374, 'primo': 0.00035001750087504374, 'tarde': 0.00035001750087504374, '1990': 0.00035001750087504374, 'furiosos': 0.00035001750087504374, 'armados': 0.00035001750087504374, 'parou': 0.00035001750087504374, 'serenidade': 0.00035001750087504374, 'mantenha': 0.00035001750087504374, 'crl': 0.00035001750087504374, 'regras:::::': 0.00035001750087504374, 'experiência': 0.00035001750087504374, 'capotando': 0.00035001750087504374, 'reservamos': 0.00035001750087504374, 'nunes': 0.00035001750087504374, 'pas': 0.00035001750087504374, 'vestido': 0.00035001750087504374, 'motors': 0.00035001750087504374, 'completo': 0.00035001750087504374, 'pensepositivo': 0.00035001750087504374, 'zona': 0.00035001750087504374, 'curiosidades': 0.00035001750087504374, 'fazem': 0.00035001750087504374, 'bolsonazi': 0.00035001750087504374, 'acidente': 0.00035001750087504374, 'idelogia': 0.00035001750087504374, 'flex': 0.00035001750087504374, 'freio': 0.00035001750087504374, 'picapona': 0.00035001750087504374, 'festa': 0.00035001750087504374, 'mesmos': 0.00035001750087504374, 'william': 0.00035001750087504374, 'continuava': 0.00035001750087504374, 'retiro': 0.00035001750087504374, 'tu': 0.00035001750087504374, 'corolla:': 0.00035001750087504374, 'diesel': 0.00035001750087504374, 'litros': 0.00035001750087504374, 'falhando': 0.00035001750087504374, 'marcos': 0.00035001750087504374, 'tive': 0.00035001750087504374, 'uns': 0.00035001750087504374, 'novos': 0.00035001750087504374, 'sapatos': 0.00035001750087504374, 'completo:': 0.00035001750087504374, 'fotos.por': 0.00035001750087504374, 'nossos': 0.00035001750087504374, 'capota': 0.00035001750087504374, 'parça': 0.00035001750087504374, 'venha': 0.00035001750087504374, 'sei': 0.00035001750087504374, \"seca'\": 0.00035001750087504374, 'compartilhem!': 0.00035001750087504374, 'aconteceu': 0.00035001750087504374, 'hahaha': 0.00035001750087504374, 'joaoguilherme': 0.00035001750087504374, 'corrigir': 0.00035001750087504374, 'cordaozão': 0.00035001750087504374, 'merda': 0.00035001750087504374, 'fredinho': 0.00035001750087504374, 'seguir': 0.00035001750087504374, 'ferido': 0.00035001750087504374, 'sentra..': 0.00035001750087504374, 'acredite': 0.00035001750087504374, 'encher': 0.00035001750087504374, 'estilo': 0.00035001750087504374, 'significam': 0.00035001750087504374, 'após': 0.00035001750087504374, 'corollaxrs': 0.00035001750087504374, 'aberta': 0.00035001750087504374, 'sw': 0.00035001750087504374, 'lkq~154500513': 0.00035001750087504374, 'crown': 0.00035001750087504374, 'saumi': 0.00035001750087504374, 'parque': 0.00035001750087504374, 'hashahsh': 0.00035001750087504374, 'fazendo': 0.00035001750087504374, 'respeito': 0.00035001750087504374, 'cheirinho': 0.00035001750087504374, 'vende': 0.00035001750087504374, 'recifense': 0.00035001750087504374, 'militar': 0.00035001750087504374, 'nr': 0.00035001750087504374, 'roubado': 0.00035001750087504374, 'segurança': 0.00035001750087504374, 'pai': 0.00035001750087504374, 'coroa': 0.00035001750087504374, 'dirigi': 0.00035001750087504374, 'cross': 0.00035001750087504374, 'trocado': 0.00035001750087504374, 'engine': 0.00035001750087504374, 'casamento': 0.00035001750087504374, 'cepsa': 0.00035001750087504374, 'genuine': 0.00035001750087504374, 'tremendo': 0.00035001750087504374, 'role': 0.00035001750087504374, 'soluções': 0.00035001750087504374, 'augi': 0.00035001750087504374, 'linda': 0.00035001750087504374, 'papo': 0.00035001750087504374, 'divertidas.': 0.00035001750087504374, 'céu!': 0.00035001750087504374, 'seis': 0.00035001750087504374, 'gt': 0.00035001750087504374, 'salgueiro': 0.00035001750087504374, 'belo': 0.00035001750087504374, 'contigo': 0.00035001750087504374, '17k': 0.00035001750087504374, 'reconhecido': 0.00035001750087504374, 'medir': 0.00035001750087504374, '😂😂': 0.00035001750087504374, '11945415038': 0.00035001750087504374, 'superiores': 0.00035001750087504374, 'executam': 0.00035001750087504374, 'fora': 0.00035001750087504374, 'maravilhoso': 0.00035001750087504374, 'comparando': 0.00035001750087504374, 'dados': 0.00035001750087504374, 'avaliacao': 0.00035001750087504374, 'também': 0.00035001750087504374, 'mosca': 0.00035001750087504374, 'potente': 0.00035001750087504374, 'real': 0.00035001750087504374, 'passou': 0.00035001750087504374, '1989': 0.00035001750087504374, 'traseiras': 0.00035001750087504374, 'zelado': 0.00035001750087504374, 'mexico': 0.00035001750087504374, 'pt': 0.00035001750087504374, 'ficar': 0.00035001750087504374, 'dentro': 0.00035001750087504374, 'sola': 0.00035001750087504374, 'custa': 0.00035001750087504374, 'benefício': 0.00035001750087504374, 'buscou': 0.00035001750087504374, 'vamo': 0.00035001750087504374, 'interior': 0.00035001750087504374, 'cobra': 0.00035001750087504374, 'bem': 0.00035001750087504374, 'riacho': 0.00035001750087504374, '7008films': 0.00035001750087504374, \"'urêa\": 0.00035001750087504374, 'próximo': 0.00035001750087504374, 'jerônimo': 0.00035001750087504374, 'review': 0.00035001750087504374, 'ni': 0.00035001750087504374, 'sexta': 0.00035001750087504374, 'híbrida': 0.00035001750087504374, 'bokezinho': 0.00035001750087504374, 'combustível': 0.00035001750087504374, '2010': 0.00035001750087504374, 'vendas': 0.00035001750087504374, 'chave': 0.00035001750087504374, 'tomba': 0.00035001750087504374, 'volante': 0.00035001750087504374, 'ha18': 0.00035001750087504374, '6': 0.00035001750087504374, 'la': 0.00035001750087504374, 'verificou': 0.00035001750087504374, 'voltar': 0.00035001750087504374, 'kkkkkkkkk': 0.00035001750087504374, 'hein!': 0.00035001750087504374}\n"
     ]
    }
   ],
   "source": [
    "print(Probabilidade_descartavel2)"
   ]
  },
  {
   "cell_type": "code",
   "execution_count": null,
   "metadata": {},
   "outputs": [],
   "source": [
    "####Avaliar Tweets Teste\n",
    "#####FAZER STE"
   ]
  },
  {
   "cell_type": "code",
   "execution_count": 99,
   "metadata": {},
   "outputs": [],
   "source": [
    "#Porcentagem de positivos falsos (marcados como relevante mas não são relevantes)\n",
    "def Porcentagem_de_positivos_falsos(x,y):\n",
    "    falsos=[]\n",
    "    for i in range(len(y)):\n",
    "        if y[i] not in x:\n",
    "            falsos.append(y[i])\n",
    "    return len(falsos)/len(y)"
   ]
  },
  {
   "cell_type": "code",
   "execution_count": 100,
   "metadata": {},
   "outputs": [
    {
     "name": "stdout",
     "output_type": "stream",
     "text": [
      "1.0\n"
     ]
    }
   ],
   "source": [
    "print(Porcentagem_de_positivos_falsos(Fundamental1,Fundamental2))\n"
   ]
  },
  {
   "cell_type": "code",
   "execution_count": 101,
   "metadata": {},
   "outputs": [],
   "source": [
    "def Porcentagem_de_positivos_verdadeiros(x,y):\n",
    "    verdadeiros=[]\n",
    "    for i in range(len(y)):\n",
    "        if y[i]  in x:\n",
    "            verdadeiros.append(y[i])\n",
    "    return len(verdadeiros)/len(y)"
   ]
  },
  {
   "cell_type": "code",
   "execution_count": 102,
   "metadata": {},
   "outputs": [
    {
     "name": "stdout",
     "output_type": "stream",
     "text": [
      "0.0\n"
     ]
    }
   ],
   "source": [
    "print(Porcentagem_de_positivos_verdadeiros(Fundamental1,Fundamental2))"
   ]
  },
  {
   "cell_type": "code",
   "execution_count": 103,
   "metadata": {},
   "outputs": [],
   "source": [
    "#Porcentagem de negativos verdadeiros (marcado como não relevante e não são relevantes)\n",
    "def Porcentagem_de_negativos_verdadeiros(x,y):\n",
    "    verdadeiros=[]\n",
    "    for i in range(len(y)):\n",
    "        if y[i]  in x:\n",
    "            verdadeiros.append(y[i])\n",
    "    return len(verdadeiros)/len(y)\n",
    "\n"
   ]
  },
  {
   "cell_type": "code",
   "execution_count": 104,
   "metadata": {},
   "outputs": [
    {
     "name": "stdout",
     "output_type": "stream",
     "text": [
      "0.0\n"
     ]
    }
   ],
   "source": [
    "print(Porcentagem_de_negativos_verdadeiros(Descartavel1,Descartavel2))"
   ]
  },
  {
   "cell_type": "code",
   "execution_count": 105,
   "metadata": {},
   "outputs": [],
   "source": [
    "#Porcentagem de negativos falsos (marcado como não relevante e são relevantes)\n",
    "def Porcentagem_de_negativos_falsos(x,y):\n",
    "    falsos=[]\n",
    "    for i in range(len(y)):\n",
    "        if y[i] in x:\n",
    "            falsos.append(y[i])\n",
    "    return len(falsos)/len(y)\n",
    "\n"
   ]
  },
  {
   "cell_type": "code",
   "execution_count": 106,
   "metadata": {},
   "outputs": [
    {
     "name": "stdout",
     "output_type": "stream",
     "text": [
      "1.0\n"
     ]
    }
   ],
   "source": [
    "print(Porcentagem_de_negativos_falsos(Fundamental1,Descartavel2))"
   ]
  },
  {
   "cell_type": "code",
   "execution_count": 107,
   "metadata": {},
   "outputs": [],
   "source": [
    "def Porcentagem_de_negativos_falsos1(x,y):\n",
    "    falsos=[]\n",
    "    for i in range(len(y)):\n",
    "        if y[i] in x:\n",
    "            falsos.append(y[i])\n",
    "    return falsos"
   ]
  },
  {
   "cell_type": "code",
   "execution_count": 108,
   "metadata": {},
   "outputs": [
    {
     "name": "stdout",
     "output_type": "stream",
     "text": [
      "[]\n"
     ]
    }
   ],
   "source": [
    "print(Porcentagem_de_negativos_falsos1(Fundamental1,Descartavel2))"
   ]
  },
  {
   "cell_type": "code",
   "execution_count": 110,
   "metadata": {},
   "outputs": [
    {
     "name": "stdout",
     "output_type": "stream",
     "text": [
      "[]\n"
     ]
    }
   ],
   "source": [
    "def Teste(x,y):\n",
    "    iguais=[]\n",
    "    for i in range(len(y)):\n",
    "        if y[i] in x:\n",
    "            iguais.append(y[i])\n",
    "    return iguais\n",
    "\n",
    "print(Teste(Fundamental1,Fundamental2))"
   ]
  },
  {
   "cell_type": "code",
   "execution_count": null,
   "metadata": {},
   "outputs": [],
   "source": []
  }
 ],
 "metadata": {
  "kernelspec": {
   "display_name": "Python 3",
   "language": "python",
   "name": "python3"
  },
  "language_info": {
   "codemirror_mode": {
    "name": "ipython",
    "version": 3
   },
   "file_extension": ".py",
   "mimetype": "text/x-python",
   "name": "python",
   "nbconvert_exporter": "python",
   "pygments_lexer": "ipython3",
   "version": "3.6.4"
  }
 },
 "nbformat": 4,
 "nbformat_minor": 2
}
